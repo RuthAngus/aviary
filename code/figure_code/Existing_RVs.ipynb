{
 "cells": [
  {
   "cell_type": "markdown",
   "metadata": {},
   "source": [
    "# Look at all the stars for which you do have RVs."
   ]
  },
  {
   "cell_type": "code",
   "execution_count": 1,
   "metadata": {},
   "outputs": [],
   "source": [
    "%matplotlib inline"
   ]
  },
  {
   "cell_type": "code",
   "execution_count": 2,
   "metadata": {},
   "outputs": [],
   "source": [
    "import numpy as np\n",
    "import pandas as pd\n",
    "import matplotlib.pyplot as plt\n",
    "import matplotlib\n",
    "import tqdm\n",
    "\n",
    "import astropy.stats as aps\n",
    "\n",
    "import aviary as av\n",
    "\n",
    "plotpar = {'axes.labelsize': 30,\n",
    "           'font.size': 30,\n",
    "           'legend.fontsize': 15,\n",
    "           'xtick.labelsize': 30,\n",
    "           'ytick.labelsize': 30,\n",
    "           'text.usetex': True}\n",
    "plt.rcParams.update(plotpar)"
   ]
  },
  {
   "cell_type": "code",
   "execution_count": 6,
   "metadata": {},
   "outputs": [
    {
     "name": "stderr",
     "output_type": "stream",
     "text": [
      "/Users/rangus/Applications/anaconda3/lib/python3.7/site-packages/IPython/core/interactiveshell.py:3063: DtypeWarning: Columns (7,21,24) have mixed types.Specify dtype option on import or set low_memory=False.\n",
      "  interactivity=interactivity, compiler=compiler, result=result)\n"
     ]
    }
   ],
   "source": [
    "df = pd.read_csv(\"../../data/gaia_mc.csv\")\n",
    "gaia_mc = pd.read_csv(\"../../data/gaia_lamost_mc_velocities.csv\")"
   ]
  },
  {
   "cell_type": "code",
   "execution_count": 4,
   "metadata": {},
   "outputs": [
    {
     "name": "stderr",
     "output_type": "stream",
     "text": [
      " 14%|█▎        | 1474/10741 [00:00<00:01, 4722.60it/s]/Users/rangus/Applications/anaconda3/lib/python3.7/site-packages/numpy/lib/nanfunctions.py:1116: RuntimeWarning: All-NaN slice encountered\n",
      "  overwrite_input=overwrite_input)\n",
      "100%|██████████| 10741/10741 [00:02<00:00, 4766.64it/s]\n"
     ]
    }
   ],
   "source": [
    "dt, dp = 500, .4\n",
    "\n",
    "dispersions_bins = av.calc_dispersion_bins(gaia_mc.color_teffs.values,\n",
    "                                               np.log10(gaia_mc.Prot.values),\n",
    "                                               gaia_mc.basic_vz.values,\n",
    "                                               dt, dp)"
   ]
  },
  {
   "cell_type": "code",
   "execution_count": null,
   "metadata": {},
   "outputs": [],
   "source": [
    "cmap = plt.cm.plasma_r\n",
    "cmaplist = [cmap(i) for i in range(cmap.N)]\n",
    "cmap = matplotlib.colors.LinearSegmentedColormap.from_list(\n",
    "    'Custom cmap', cmaplist, cmap.N)\n",
    "bounds = np.linspace(0, 24, 12)\n",
    "norm = matplotlib.colors.BoundaryNorm(bounds, cmap.N)\n",
    "\n",
    "plt.figure(figsize=(16, 9), dpi=200)\n",
    "\n",
    "plt.plot(df.color_teffs, df.Prot, \".\", color=\".85\", zorder=0)\n",
    "plt.scatter(gaia_mc.color_teffs, gaia_mc.Prot, c=dispersions_bins,\n",
    "            s=75, alpha=.5, edgecolor=\"\", vmin=5, vmax=22, cmap=cmap, norm=norm, zorder=1)\n",
    "plt.yscale(\"log\")\n",
    "plt.xlim(6550, 3200)\n",
    "plt.xlabel(\"$\\mathrm{T_{eff}~[K]}$\")\n",
    "plt.ylabel(\"$\\mathrm{Rotation~period~[days]}$\")\n",
    "\n",
    "color_bar = plt.colorbar(label=\"$\\mathrm{\\sigma_{vb}~[kms^{-1}]}$\")\n",
    "color_bar.set_alpha(1)\n",
    "color_bar.draw_all()\n",
    "\n",
    "xs = np.arange(3000, 6000, dt)\n",
    "ys = 10**np.arange(1, 2, dp)\n",
    "    \n",
    "xspot, yspot = 3400, 2\n",
    "xs = np.linspace(xspot, xspot+dt, 100)\n",
    "plt.fill_between(xs, yspot, 10**(np.log10(yspot) + dp), color=\"k\", alpha=.2)\n",
    "\n",
    "plt.ylim(.15, 85)\n",
    "plt.xlim(6700, 3200)\n",
    "plt.savefig(\"lamost_vplot\")\n",
    "plt.savefig(\"lamost_vplot.pdf\")"
   ]
  },
  {
   "cell_type": "code",
   "execution_count": null,
   "metadata": {},
   "outputs": [],
   "source": []
  }
 ],
 "metadata": {
  "kernelspec": {
   "display_name": "Python 3",
   "language": "python",
   "name": "python3"
  },
  "language_info": {
   "codemirror_mode": {
    "name": "ipython",
    "version": 3
   },
   "file_extension": ".py",
   "mimetype": "text/x-python",
   "name": "python",
   "nbconvert_exporter": "python",
   "pygments_lexer": "ipython3",
   "version": "3.7.6"
  }
 },
 "nbformat": 4,
 "nbformat_minor": 4
}
