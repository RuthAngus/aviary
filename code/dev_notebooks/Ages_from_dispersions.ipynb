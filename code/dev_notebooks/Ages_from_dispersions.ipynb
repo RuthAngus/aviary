{
 "cells": [
  {
   "cell_type": "markdown",
   "metadata": {},
   "source": [
    "# Inferring ages from velocity dispersions."
   ]
  },
  {
   "cell_type": "markdown",
   "metadata": {},
   "source": [
    "I want to build a hierarchical model, where I infer the velocity dispersion (root-variance) of the velocities, vz, by deconvolving the transformation between vb and vz. The variance on each velocity, vb, is artificially increased as a function of b: $\\sigma = 0.44 b + 0.15$"
   ]
  },
  {
   "cell_type": "code",
   "execution_count": 1,
   "metadata": {},
   "outputs": [],
   "source": [
    "%matplotlib inline"
   ]
  },
  {
   "cell_type": "code",
   "execution_count": 2,
   "metadata": {},
   "outputs": [],
   "source": [
    "import numpy as np\n",
    "import matplotlib.pyplot as plt"
   ]
  },
  {
   "cell_type": "code",
   "execution_count": 3,
   "metadata": {},
   "outputs": [],
   "source": [
    "np.random.seed(42)\n",
    "N = 1000\n",
    "\n",
    "beta = .52\n",
    "m, c = .44, .15\n",
    "b = np.random.uniform(5, 15, N)\n",
    "\n",
    "age = 9\n",
    "t = np.ones(N)*age\n",
    "vz = np.random.randn(N)*(age**beta)\n",
    "vb = vz + np.random.randn(N)*(m*b + c)\n",
    "vb_err = np.ones(N)*(.1*vb)\n",
    "vb += np.random.randn(N)*vb_err"
   ]
  },
  {
   "cell_type": "code",
   "execution_count": 4,
   "metadata": {},
   "outputs": [
    {
     "data": {
      "text/plain": [
       "Text(0.5, 0, 'Velocity')"
      ]
     },
     "execution_count": 4,
     "metadata": {},
     "output_type": "execute_result"
    },
    {
     "data": {
      "image/png": "[encoded data removed]",
      "text/plain": [
       "<Figure size 432x288 with 1 Axes>"
      ]
     },
     "metadata": {
      "needs_background": "light"
     },
     "output_type": "display_data"
    }
   ],
   "source": [
    "plt.hist(vb, density=True, alpha=.5, label=\"Vb\");\n",
    "plt.hist(vz, density=True, alpha=.5, label=\"Vz\");\n",
    "plt.legend()\n",
    "plt.xlabel(\"Velocity\")"
   ]
  },
  {
   "cell_type": "markdown",
   "metadata": {},
   "source": [
    "Task: try to recover the age that was used to generate these velocities (5 Gyr)."
   ]
  },
  {
   "cell_type": "markdown",
   "metadata": {},
   "source": [
    "$$\\sigma_v = t^\\beta$$\n",
    "$$t = \\sigma_v^{1/\\beta}$$"
   ]
  },
  {
   "cell_type": "code",
   "execution_count": 5,
   "metadata": {},
   "outputs": [
    {
     "name": "stdout",
     "output_type": "stream",
     "text": [
      "26.251819190907305 8.800964193982916\n"
     ]
    }
   ],
   "source": [
    "vb_age = np.std(vb)**(1./beta)\n",
    "vz_age = np.std(vz)**(1./beta)\n",
    "print(vb_age, vz_age)"
   ]
  },
  {
   "cell_type": "markdown",
   "metadata": {},
   "source": [
    "Build a hierarchical model, marginalizing over vz for each star, in order to infer mu and sigma of the true Gaussian."
   ]
  },
  {
   "cell_type": "code",
   "execution_count": 6,
   "metadata": {},
   "outputs": [],
   "source": [
    "import pymc3 as pm\n",
    "\n",
    "simple_model = pm.Model()\n",
    "\n",
    "with simple_model:\n",
    "    \n",
    "    # Prior over mu\n",
    "    mu = pm.Uniform(\"mu\", lower=-100, upper=100)\n",
    "    # Prior over sigma\n",
    "    sigma = pm.Uniform(\"sigma\", lower=0, upper=100)\n",
    "    \n",
    "    # vz\n",
    "    vz_hat = pm.Normal(\"vz_hat\", mu=mu, sigma=sigma, shape=N)\n",
    "    \n",
    "    ivar_b, ivar_z = vb_err**(-2), (m*b + c)**(-2)\n",
    "    ivar = ivar_b + ivar_z\n",
    "    \n",
    "    # vb (the likelihood)\n",
    "    vb_hat = pm.Normal(\"vb_hat\", mu=vz_hat, sigma=np.sqrt(1./ivar), observed=vb)\n",
    "    \n",
    "# simple_model = pm.Model()\n",
    "\n",
    "# with simple_model:\n",
    "    \n",
    "#     # Prior over mu\n",
    "#     mu = pm.Uniform(\"mu\", lower=-100, upper=100)\n",
    "#     # Prior over sigma\n",
    "#     sigma = pm.Uniform(\"sigma\", lower=0, upper=100)\n",
    "    \n",
    "#     # p(vb|sigma_vb, sigma_vz, vz)\n",
    "#     lnprob = sum(-.5*(vb**2/(1./var)))\n",
    "    \n",
    "#     # vz\n",
    "#     vz_hat = pm.Normal(\"vz_hat\", mu=mu, sigma=sigma, shape=N)\n",
    "    \n",
    "#     ivar_b, ivar_z = vb_err**(-2), (m*b + c)**(-2)\n",
    "#     ivar = ivar_b + ivar_z\n",
    "#     # vb (the likelihood)\n",
    "#     vb_hat = pm.Normal(\"vb_hat\", mu=vz_hat, sigma=np.sqrt(1./ivar), observed=vb)"
   ]
  },
  {
   "cell_type": "code",
   "execution_count": 7,
   "metadata": {},
   "outputs": [
    {
     "data": {
      "image/svg+xml": [
       "<?xml version=\"1.0\" encoding=\"UTF-8\" standalone=\"no\"?>\n",
       "<!DOCTYPE svg PUBLIC \"-//W3C//DTD SVG 1.1//EN\"\n",
       " \"http://www.w3.org/Graphics/SVG/1.1/DTD/svg11.dtd\">\n",
       "<!-- Generated by graphviz version 2.40.1 (20161225.0304)\n",
       " -->\n",
       "<!-- Title: %3 Pages: 1 -->\n",
       "<svg width=\"298pt\" height=\"227pt\"\n",
       " viewBox=\"0.00 0.00 298.49 227.00\" xmlns=\"http://www.w3.org/2000/svg\" xmlns:xlink=\"http://www.w3.org/1999/xlink\">\n",
       "<g id=\"graph0\" class=\"graph\" transform=\"scale(1 1) rotate(0) translate(4 223)\">\n",
       "<title>%3</title>\n",
       "<polygon fill=\"#ffffff\" stroke=\"transparent\" points=\"-4,4 -4,-223 294.4879,-223 294.4879,4 -4,4\"/>\n",
       "<g id=\"clust1\" class=\"cluster\">\n",
       "<title>cluster1,000</title>\n",
       "<path fill=\"none\" stroke=\"#000000\" d=\"M71.0444,-8C71.0444,-8 209.0444,-8 209.0444,-8 215.0444,-8 221.0444,-14 221.0444,-20 221.0444,-20 221.0444,-143 221.0444,-143 221.0444,-149 215.0444,-155 209.0444,-155 209.0444,-155 71.0444,-155 71.0444,-155 65.0444,-155 59.0444,-149 59.0444,-143 59.0444,-143 59.0444,-20 59.0444,-20 59.0444,-14 65.0444,-8 71.0444,-8\"/>\n",
       "<text text-anchor=\"middle\" x=\"197.0444\" y=\"-15.8\" font-family=\"Times,serif\" font-size=\"14.00\" fill=\"#000000\">1,000</text>\n",
       "</g>\n",
       "<!-- mu -->\n",
       "<g id=\"node1\" class=\"node\">\n",
       "<title>mu</title>\n",
       "<ellipse fill=\"none\" stroke=\"#000000\" cx=\"63.0444\" cy=\"-201\" rx=\"63.0888\" ry=\"18\"/>\n",
       "<text text-anchor=\"middle\" x=\"63.0444\" y=\"-197.3\" font-family=\"Times,serif\" font-size=\"14.00\" fill=\"#000000\">mu ~ Uniform</text>\n",
       "</g>\n",
       "<!-- vz_hat -->\n",
       "<g id=\"node4\" class=\"node\">\n",
       "<title>vz_hat</title>\n",
       "<ellipse fill=\"none\" stroke=\"#000000\" cx=\"140.0444\" cy=\"-129\" rx=\"72.2875\" ry=\"18\"/>\n",
       "<text text-anchor=\"middle\" x=\"140.0444\" y=\"-125.3\" font-family=\"Times,serif\" font-size=\"14.00\" fill=\"#000000\">vz_hat ~ Normal</text>\n",
       "</g>\n",
       "<!-- mu&#45;&gt;vz_hat -->\n",
       "<g id=\"edge1\" class=\"edge\">\n",
       "<title>mu&#45;&gt;vz_hat</title>\n",
       "<path fill=\"none\" stroke=\"#000000\" d=\"M81.684,-183.5708C91.3541,-174.5286 103.3263,-163.3338 113.9054,-153.4417\"/>\n",
       "<polygon fill=\"#000000\" stroke=\"#000000\" points=\"116.3958,-155.9047 121.3096,-146.5182 111.6149,-150.7917 116.3958,-155.9047\"/>\n",
       "</g>\n",
       "<!-- sigma -->\n",
       "<g id=\"node2\" class=\"node\">\n",
       "<title>sigma</title>\n",
       "<ellipse fill=\"none\" stroke=\"#000000\" cx=\"217.0444\" cy=\"-201\" rx=\"73.387\" ry=\"18\"/>\n",
       "<text text-anchor=\"middle\" x=\"217.0444\" y=\"-197.3\" font-family=\"Times,serif\" font-size=\"14.00\" fill=\"#000000\">sigma ~ Uniform</text>\n",
       "</g>\n",
       "<!-- sigma&#45;&gt;vz_hat -->\n",
       "<g id=\"edge2\" class=\"edge\">\n",
       "<title>sigma&#45;&gt;vz_hat</title>\n",
       "<path fill=\"none\" stroke=\"#000000\" d=\"M198.4049,-183.5708C188.7347,-174.5286 176.7625,-163.3338 166.1834,-153.4417\"/>\n",
       "<polygon fill=\"#000000\" stroke=\"#000000\" points=\"168.4739,-150.7917 158.7792,-146.5182 163.693,-155.9047 168.4739,-150.7917\"/>\n",
       "</g>\n",
       "<!-- vb_hat -->\n",
       "<g id=\"node3\" class=\"node\">\n",
       "<title>vb_hat</title>\n",
       "<ellipse fill=\"#d3d3d3\" stroke=\"#000000\" cx=\"140.0444\" cy=\"-57\" rx=\"72.5877\" ry=\"18\"/>\n",
       "<text text-anchor=\"middle\" x=\"140.0444\" y=\"-53.3\" font-family=\"Times,serif\" font-size=\"14.00\" fill=\"#000000\">vb_hat ~ Normal</text>\n",
       "</g>\n",
       "<!-- vz_hat&#45;&gt;vb_hat -->\n",
       "<g id=\"edge3\" class=\"edge\">\n",
       "<title>vz_hat&#45;&gt;vb_hat</title>\n",
       "<path fill=\"none\" stroke=\"#000000\" d=\"M140.0444,-110.8314C140.0444,-103.131 140.0444,-93.9743 140.0444,-85.4166\"/>\n",
       "<polygon fill=\"#000000\" stroke=\"#000000\" points=\"143.5445,-85.4132 140.0444,-75.4133 136.5445,-85.4133 143.5445,-85.4132\"/>\n",
       "</g>\n",
       "</g>\n",
       "</svg>\n"
      ],
      "text/plain": [
       "<graphviz.dot.Digraph at 0x11c715ef0>"
      ]
     },
     "execution_count": 7,
     "metadata": {},
     "output_type": "execute_result"
    }
   ],
   "source": [
    "pm.model_to_graphviz(simple_model)"
   ]
  },
  {
   "cell_type": "code",
   "execution_count": 8,
   "metadata": {},
   "outputs": [
    {
     "name": "stderr",
     "output_type": "stream",
     "text": [
      "Auto-assigning NUTS sampler...\n",
      "Initializing NUTS using jitter+adapt_diag...\n",
      "Multiprocess sampling (4 chains in 4 jobs)\n",
      "NUTS: [vz_hat, sigma, mu]\n",
      "Sampling 4 chains: 100%|██████████| 40000/40000 [01:06<00:00, 598.48draws/s] \n"
     ]
    }
   ],
   "source": [
    "with simple_model:\n",
    "    trace = pm.sample(tune=5000, draws=5000)"
   ]
  },
  {
   "cell_type": "code",
   "execution_count": 9,
   "metadata": {},
   "outputs": [
    {
     "name": "stdout",
     "output_type": "stream",
     "text": [
      "0.4527197434151944 5.329198075261025\n"
     ]
    }
   ],
   "source": [
    "print(np.median(trace.mu), np.median(trace.sigma))"
   ]
  },
  {
   "cell_type": "code",
   "execution_count": 10,
   "metadata": {},
   "outputs": [
    {
     "name": "stdout",
     "output_type": "stream",
     "text": [
      "age =  24.970466641017566\n"
     ]
    }
   ],
   "source": [
    "print(\"age = \", np.median(trace.sigma)**(1./beta))"
   ]
  },
  {
   "cell_type": "code",
   "execution_count": 15,
   "metadata": {},
   "outputs": [
    {
     "name": "stdout",
     "output_type": "stream",
     "text": [
      "testing age =  1\n"
     ]
    },
    {
     "name": "stderr",
     "output_type": "stream",
     "text": [
      "Auto-assigning NUTS sampler...\n",
      "Initializing NUTS using jitter+adapt_diag...\n",
      "Multiprocess sampling (4 chains in 4 jobs)\n",
      "NUTS: [vz_hat, sigma, mu]\n",
      "Sampling 4 chains: 100%|██████████| 40000/40000 [01:32<00:00, 431.26draws/s]\n",
      "There were 265 divergences after tuning. Increase `target_accept` or reparameterize.\n",
      "The acceptance probability does not match the target. It is 0.5768153038273935, but should be close to 0.8. Try to increase the number of tuning steps.\n",
      "There were 2 divergences after tuning. Increase `target_accept` or reparameterize.\n",
      "The acceptance probability does not match the target. It is 0.5796646738666796, but should be close to 0.8. Try to increase the number of tuning steps.\n",
      "The chain reached the maximum tree depth. Increase max_treedepth, increase target_accept or reparameterize.\n",
      "The estimated number of effective samples is smaller than 200 for some parameters.\n"
     ]
    },
    {
     "name": "stdout",
     "output_type": "stream",
     "text": [
      "testing age =  2\n"
     ]
    },
    {
     "name": "stderr",
     "output_type": "stream",
     "text": [
      "Auto-assigning NUTS sampler...\n",
      "Initializing NUTS using jitter+adapt_diag...\n",
      "Multiprocess sampling (4 chains in 4 jobs)\n",
      "NUTS: [vz_hat, sigma, mu]\n",
      "Sampling 4 chains: 100%|██████████| 40000/40000 [01:37<00:00, 409.23draws/s] \n",
      "There was 1 divergence after tuning. Increase `target_accept` or reparameterize.\n",
      "The acceptance probability does not match the target. It is 0.7180377837254882, but should be close to 0.8. Try to increase the number of tuning steps.\n",
      "The acceptance probability does not match the target. It is 0.6827448046316111, but should be close to 0.8. Try to increase the number of tuning steps.\n",
      "The chain reached the maximum tree depth. Increase max_treedepth, increase target_accept or reparameterize.\n",
      "There were 4830 divergences after tuning. Increase `target_accept` or reparameterize.\n",
      "The acceptance probability does not match the target. It is 0.10514380051458613, but should be close to 0.8. Try to increase the number of tuning steps.\n",
      "The chain contains only diverging samples. The model is probably misspecified.\n",
      "The acceptance probability does not match the target. It is 0.0927673864445021, but should be close to 0.8. Try to increase the number of tuning steps.\n",
      "The gelman-rubin statistic is larger than 1.2 for some parameters.\n",
      "The estimated number of effective samples is smaller than 200 for some parameters.\n"
     ]
    },
    {
     "name": "stdout",
     "output_type": "stream",
     "text": [
      "testing age =  3\n"
     ]
    },
    {
     "name": "stderr",
     "output_type": "stream",
     "text": [
      "Auto-assigning NUTS sampler...\n",
      "Initializing NUTS using jitter+adapt_diag...\n",
      "Multiprocess sampling (4 chains in 4 jobs)\n",
      "NUTS: [vz_hat, sigma, mu]\n",
      "Sampling 4 chains: 100%|██████████| 40000/40000 [00:45<00:00, 877.78draws/s] \n",
      "There were 3 divergences after tuning. Increase `target_accept` or reparameterize.\n",
      "The acceptance probability does not match the target. It is 0.6467874700402405, but should be close to 0.8. Try to increase the number of tuning steps.\n",
      "The acceptance probability does not match the target. It is 0.7082898020780815, but should be close to 0.8. Try to increase the number of tuning steps.\n",
      "The number of effective samples is smaller than 10% for some parameters.\n"
     ]
    },
    {
     "name": "stdout",
     "output_type": "stream",
     "text": [
      "testing age =  4\n"
     ]
    },
    {
     "name": "stderr",
     "output_type": "stream",
     "text": [
      "Auto-assigning NUTS sampler...\n",
      "Initializing NUTS using jitter+adapt_diag...\n",
      "Multiprocess sampling (4 chains in 4 jobs)\n",
      "NUTS: [vz_hat, sigma, mu]\n",
      "Sampling 4 chains: 100%|██████████| 40000/40000 [00:55<00:00, 723.19draws/s] \n",
      "There were 37 divergences after tuning. Increase `target_accept` or reparameterize.\n",
      "The acceptance probability does not match the target. It is 0.3496281640710514, but should be close to 0.8. Try to increase the number of tuning steps.\n",
      "The estimated number of effective samples is smaller than 200 for some parameters.\n"
     ]
    },
    {
     "name": "stdout",
     "output_type": "stream",
     "text": [
      "testing age =  5\n"
     ]
    },
    {
     "name": "stderr",
     "output_type": "stream",
     "text": [
      "Auto-assigning NUTS sampler...\n",
      "Initializing NUTS using jitter+adapt_diag...\n",
      "Multiprocess sampling (4 chains in 4 jobs)\n",
      "NUTS: [vz_hat, sigma, mu]\n",
      "Sampling 4 chains: 100%|██████████| 40000/40000 [00:36<00:00, 1084.52draws/s]\n",
      "The number of effective samples is smaller than 10% for some parameters.\n"
     ]
    },
    {
     "name": "stdout",
     "output_type": "stream",
     "text": [
      "testing age =  6\n"
     ]
    },
    {
     "name": "stderr",
     "output_type": "stream",
     "text": [
      "Auto-assigning NUTS sampler...\n",
      "Initializing NUTS using jitter+adapt_diag...\n",
      "Multiprocess sampling (4 chains in 4 jobs)\n",
      "NUTS: [vz_hat, sigma, mu]\n",
      "Sampling 4 chains: 100%|██████████| 40000/40000 [00:37<00:00, 1075.49draws/s]\n",
      "The number of effective samples is smaller than 10% for some parameters.\n"
     ]
    },
    {
     "name": "stdout",
     "output_type": "stream",
     "text": [
      "testing age =  7\n"
     ]
    },
    {
     "name": "stderr",
     "output_type": "stream",
     "text": [
      "Auto-assigning NUTS sampler...\n",
      "Initializing NUTS using jitter+adapt_diag...\n",
      "Multiprocess sampling (4 chains in 4 jobs)\n",
      "NUTS: [vz_hat, sigma, mu]\n",
      "Sampling 4 chains: 100%|██████████| 40000/40000 [00:39<00:00, 1016.08draws/s]\n",
      "The number of effective samples is smaller than 10% for some parameters.\n"
     ]
    },
    {
     "name": "stdout",
     "output_type": "stream",
     "text": [
      "testing age =  8\n"
     ]
    },
    {
     "name": "stderr",
     "output_type": "stream",
     "text": [
      "Auto-assigning NUTS sampler...\n",
      "Initializing NUTS using jitter+adapt_diag...\n",
      "Multiprocess sampling (4 chains in 4 jobs)\n",
      "NUTS: [vz_hat, sigma, mu]\n",
      "Sampling 4 chains: 100%|██████████| 40000/40000 [00:39<00:00, 1008.75draws/s]\n",
      "The number of effective samples is smaller than 10% for some parameters.\n"
     ]
    },
    {
     "name": "stdout",
     "output_type": "stream",
     "text": [
      "testing age =  9\n"
     ]
    },
    {
     "name": "stderr",
     "output_type": "stream",
     "text": [
      "Auto-assigning NUTS sampler...\n",
      "Initializing NUTS using jitter+adapt_diag...\n",
      "Multiprocess sampling (4 chains in 4 jobs)\n",
      "NUTS: [vz_hat, sigma, mu]\n",
      "Sampling 4 chains: 100%|██████████| 40000/40000 [00:43<00:00, 922.55draws/s] \n",
      "The number of effective samples is smaller than 25% for some parameters.\n"
     ]
    }
   ],
   "source": [
    "ages, err, errp, errm = [], [], [], []\n",
    "\n",
    "for age in range(1, 10):\n",
    "    \n",
    "    # Generate data\n",
    "    print(\"testing age = \", age)\n",
    "    t = np.ones(N)*age\n",
    "    vz = np.random.randn(N)*(age**beta)\n",
    "    vb = vz + np.random.randn(N)*(m*b + c)\n",
    "    vb_err = np.ones(N)*(.1*vb)\n",
    "    vb += np.random.randn(N)*vb_err\n",
    "    \n",
    "    # Hierarchical model\n",
    "    simple_model = pm.Model()\n",
    "    with simple_model:\n",
    "        # Prior over mu\n",
    "        mu = pm.Uniform(\"mu\", lower=-100, upper=100)\n",
    "        # Prior over sigma\n",
    "        sigma = pm.Uniform(\"sigma\", lower=0, upper=100)\n",
    "        # vz\n",
    "        vz_hat = pm.Normal(\"vz_hat\", mu=mu, sigma=sigma, shape=N)\n",
    "#         ivar_b, ivar_z = vb_err**(-2), (m*b + c)**(-2)\n",
    "#         ivar = ivar_b + ivar_z\n",
    "        # vb (the likelihood)\n",
    "        vb_hat = pm.Normal(\"vb_hat\", mu=vz_hat, sigma=np.sqrt(vb_err**2 + (m*b+c)**2), observed=vb)\n",
    "        \n",
    "    # Sample\n",
    "    with simple_model:\n",
    "        trace = pm.sample(tune=5000, draws=5000)\n",
    "        \n",
    "    age_array = trace.sigma**(1./beta)\n",
    "    ages.append(np.median(age_array))\n",
    "    err.append(np.std(age_array))\n",
    "    upper, lower = np.percentile(age_array, 85), np.percentile(age_array, 16)\n",
    "    errp.append(upper - np.median(age_array))\n",
    "    errm.append(np.median(age_array) - lower)"
   ]
  },
  {
   "cell_type": "code",
   "execution_count": 16,
   "metadata": {},
   "outputs": [
    {
     "data": {
      "text/plain": [
       "[<matplotlib.lines.Line2D at 0x1c368eb208>]"
      ]
     },
     "execution_count": 16,
     "metadata": {},
     "output_type": "execute_result"
    },
    {
     "data": {
      "image/png": "[encoded data removed]",
      "text/plain": [
       "<Figure size 432x288 with 1 Axes>"
      ]
     },
     "metadata": {
      "needs_background": "light"
     },
     "output_type": "display_data"
    }
   ],
   "source": [
    "xs = np.linspace(0, 10, 100)\n",
    "plt.errorbar(range(1, 10), ages, yerr=err, fmt=\".\")\n",
    "plt.plot(xs, xs)"
   ]
  },
  {
   "cell_type": "code",
   "execution_count": 17,
   "metadata": {},
   "outputs": [
    {
     "data": {
      "text/plain": [
       "[<matplotlib.lines.Line2D at 0x1c3ff7e470>]"
      ]
     },
     "execution_count": 17,
     "metadata": {},
     "output_type": "execute_result"
    },
    {
     "data": {
      "image/png": "[encoded data removed]",
      "text/plain": [
       "<Figure size 432x288 with 1 Axes>"
      ]
     },
     "metadata": {
      "needs_background": "light"
     },
     "output_type": "display_data"
    }
   ],
   "source": [
    "np.random.seed(42)\n",
    "d, e = .5, 2\n",
    "rand = np.random.randn(100)\n",
    "w = rand*d\n",
    "w += rand*c\n",
    "\n",
    "q = rand*(d + c)\n",
    "r = rand*(np.sqrt(d**2 + c**2))\n",
    "\n",
    "plt.plot(w, q, \".\")\n",
    "xs1 = np.linspace(-1.5, 1.5, 100)\n",
    "plt.plot(xs1, xs1)"
   ]
  },
  {
   "cell_type": "code",
   "execution_count": null,
   "metadata": {},
   "outputs": [],
   "source": []
  }
 ],
 "metadata": {
  "kernelspec": {
   "display_name": "Python 3",
   "language": "python",
   "name": "python3"
  },
  "language_info": {
   "codemirror_mode": {
    "name": "ipython",
    "version": 3
   },
   "file_extension": ".py",
   "mimetype": "text/x-python",
   "name": "python",
   "nbconvert_exporter": "python",
   "pygments_lexer": "ipython3",
   "version": "3.7.1"
  }
 },
 "nbformat": 4,
 "nbformat_minor": 2
}
