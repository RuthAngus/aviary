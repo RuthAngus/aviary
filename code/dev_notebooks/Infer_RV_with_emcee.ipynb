{
 "cells": [
  {
   "cell_type": "markdown",
   "metadata": {},
   "source": [
    "# Let's use emcee to see if we can infer the RV of a star using Adrian's code."
   ]
  },
  {
   "cell_type": "code",
   "execution_count": 9,
   "metadata": {},
   "outputs": [],
   "source": [
    "import astropy.coordinates as coord\n",
    "import astropy.table as at\n",
    "import astropy.units as u\n",
    "import matplotlib as mpl\n",
    "import matplotlib.pyplot as plt\n",
    "%matplotlib inline\n",
    "import numpy as np\n",
    "\n",
    "import aviary as av\n",
    "\n",
    "from astropy.coordinates.builtin_frames.galactocentric import get_matrix_vectors"
   ]
  },
  {
   "cell_type": "markdown",
   "metadata": {},
   "source": [
    "Set up the solar position and motion:"
   ]
  },
  {
   "cell_type": "code",
   "execution_count": 12,
   "metadata": {},
   "outputs": [
    {
     "name": "stdout",
     "output_type": "stream",
     "text": [
      "[-10.82072747   0.21518273  -1.29250393] kpc\n",
      "[ 4.2 -7.2] mas / yr\n"
     ]
    }
   ],
   "source": [
    "sun_xyz = [-8.122, 0, 0] * u.kpc\n",
    "sun_vxyz = [12.9, 245.6, 7.78] * u.km/u.s\n",
    "\n",
    "galcen_frame = coord.Galactocentric(galcen_distance=np.abs(sun_xyz[0]),\n",
    "                                    galcen_v_sun=sun_vxyz,\n",
    "                                    z_sun=0*u.pc)\n",
    "\n",
    "# Pre-compute the rotation matrix to go from Galactocentric to ICRS (ra/dec) coordinates\n",
    "R_gal, _ = get_matrix_vectors(galcen_frame, inverse=True)\n",
    "\n",
    "#Test the function by transforming a coordinate to galactocentric and back:\n",
    "c = coord.SkyCoord(ra=61.342*u.deg, \n",
    "                   dec=17*u.deg, \n",
    "                   distance=3*u.kpc,\n",
    "                   pm_ra_cosdec=4.2*u.mas/u.yr,\n",
    "                   pm_dec=-7.2*u.mas/u.yr,\n",
    "                   radial_velocity=17*u.km/u.s)\n",
    "\n",
    "test_galcen = c.transform_to(galcen_frame)\n",
    "print(test_galcen.data.xyz)\n",
    "\n",
    "test_pm, test_rv = av.get_icrs_from_galactocentric(\n",
    "    test_galcen.data.xyz,\n",
    "    test_galcen.velocity.d_xyz, R_gal, sun_xyz, sun_vxyz)\n",
    "print(test_pm)\n",
    "\n",
    "assert u.allclose(test_pm[0], c.pm_ra_cosdec)\n",
    "assert u.allclose(test_pm[1], c.pm_dec)\n",
    "assert u.allclose(test_rv, c.radial_velocity)"
   ]
  },
  {
   "cell_type": "markdown",
   "metadata": {},
   "source": [
    "We want to infer the vz and RV of a star from its proper motion in ra and dec and its observed radial velocity if available (and marginalize over RV if it isn't).\n",
    "\n",
    "$$p\\mathrm{(v_z, RV_{in}|\\mu_\\alpha, \\mu_\\delta, RV_{obs})} = p\\mathrm{(\\mu_\\alpha, \\mu_\\delta, RV_{obs} | v_z, RV_{in})}~p\\mathrm{(v_z)}~p\\mathrm{(RV_{in})}$$"
   ]
  },
  {
   "cell_type": "code",
   "execution_count": 37,
   "metadata": {},
   "outputs": [
    {
     "name": "stdout",
     "output_type": "stream",
     "text": [
      "-2.369017719987825e-28\n",
      "-4.145408163265293\n"
     ]
    }
   ],
   "source": [
    "def lnlike_one_star(pm_obs, pm_err, coords, D, rv):\n",
    "    c = coord.SkyCoord(ra = coords[0]*u.deg, \n",
    "                       dec = coords[1]*u.deg, \n",
    "                       distance = D*u.kpc,\n",
    "                       pm_ra_cosdec = pm_obs[0]*u.mas/u.yr,\n",
    "                       pm_dec = pm_obs[1]*u.mas/u.yr,\n",
    "                       radial_velocity = rv*u.km/u.s)\n",
    "    \n",
    "    galcen = c.transform_to(galcen_frame)\n",
    "    \n",
    "    pm, rv = av.get_icrs_from_galactocentric(xyz, vxyz, R_gal, sun_xyz, sun_vxyz)\n",
    "    \n",
    "    return - .5*(pm[0].value - pm_obs[0])**2/pm_err[0]**2 \\\n",
    "            - .5*(pm[1].value - pm_obs[1])**2/pm_err[1]**2\n",
    "\n",
    "pm_obs = np.array([4.2, -7.2])\n",
    "pm_err = np.array([.4, .7])\n",
    "rv_obs = 17\n",
    "rv_err = 1\n",
    "\n",
    "print(lnlike(pm_obs, pm_err, rv_obs, rv_err, test_galcen.data.xyz, test_galcen.velocity.d_xyz))\n",
    "print(lnlike(np.array([5.2, -8.2]), pm_err, rv_obs, rv_err, test_galcen.data.xyz, test_galcen.velocity.d_xyz))"
   ]
  },
  {
   "cell_type": "code",
   "execution_count": null,
   "metadata": {},
   "outputs": [],
   "source": []
  }
 ],
 "metadata": {
  "kernelspec": {
   "display_name": "Python 3",
   "language": "python",
   "name": "python3"
  },
  "language_info": {
   "codemirror_mode": {
    "name": "ipython",
    "version": 3
   },
   "file_extension": ".py",
   "mimetype": "text/x-python",
   "name": "python",
   "nbconvert_exporter": "python",
   "pygments_lexer": "ipython3",
   "version": "3.7.6"
  }
 },
 "nbformat": 4,
 "nbformat_minor": 4
}
