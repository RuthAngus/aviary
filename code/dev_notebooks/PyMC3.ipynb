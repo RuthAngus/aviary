{
 "cells": [
  {
   "cell_type": "markdown",
   "metadata": {},
   "source": [
    "# Experimenting with re-writing the model with PyMC3."
   ]
  },
  {
   "cell_type": "code",
   "execution_count": 7,
   "metadata": {},
   "outputs": [],
   "source": [
    "%matplotlib inline"
   ]
  },
  {
   "cell_type": "code",
   "execution_count": 376,
   "metadata": {},
   "outputs": [],
   "source": [
    "import numpy as np\n",
    "import pandas as pd\n",
    "import emcee\n",
    "import corner\n",
    "\n",
    "import astropy.stats as aps\n",
    "import astropy.coordinates as coord\n",
    "import astropy.units as u\n",
    "from astropy.coordinates.builtin_frames.galactocentric \\\n",
    "    import get_matrix_vectors\n",
    "import warnings\n",
    "from astropy.utils.exceptions import AstropyWarning\n",
    "warnings.simplefilter('ignore', category=AstropyWarning)\n",
    "\n",
    "import aviary as av\n",
    "import theano.tensor as tt"
   ]
  },
  {
   "cell_type": "code",
   "execution_count": 9,
   "metadata": {},
   "outputs": [
    {
     "name": "stdout",
     "output_type": "stream",
     "text": [
      "[[-0.05487396  0.49411076 -0.86766549]\n",
      " [-0.87343718 -0.44482862 -0.19807824]\n",
      " [-0.48383503  0.74698196  0.45598422]]\n"
     ]
    }
   ],
   "source": [
    "# Solar coords\n",
    "sun_xyz = [-8.122, 0, 0] * u.kpc\n",
    "sun_vxyz = [12.9, 245.6, 7.78] * u.km/u.s\n",
    "\n",
    "galcen_frame = coord.Galactocentric(galcen_distance=np.abs(sun_xyz[0]),\n",
    "                                    galcen_v_sun=sun_vxyz,\n",
    "                                    z_sun=0*u.pc)\n",
    "\n",
    "# Pre-compute the rotation matrix to go from Galactocentric to ICRS\n",
    "# (ra/dec) coordinates\n",
    "R_gal, _ = get_matrix_vectors(galcen_frame, inverse=True)\n",
    "\n",
    "print(R_gal)"
   ]
  },
  {
   "cell_type": "code",
   "execution_count": 10,
   "metadata": {},
   "outputs": [
    {
     "name": "stderr",
     "output_type": "stream",
     "text": [
      "/Users/rangus/Applications/anaconda3/lib/python3.7/site-packages/IPython/core/interactiveshell.py:3063: DtypeWarning: Columns (27,30) have mixed types.Specify dtype option on import or set low_memory=False.\n",
      "  interactivity=interactivity, compiler=compiler, result=result)\n"
     ]
    }
   ],
   "source": [
    "# Calculate prior parameters from vx, vy, vz distributions.\n",
    "vels = pd.read_csv(\"../../data/gaia_lamost_mc_velocities.csv\")\n",
    "m = vels.radial_velocity.values != 0\n",
    "vels = vels.iloc[m]\n",
    "\n",
    "# Calculate covariance between velocities\n",
    "VX = np.stack((vels.basic_vx.values, vels.basic_vy.values,\n",
    "               vels.basic_vz.values, np.log(1./vels.parallax.values)), axis=0)\n",
    "mean = np.mean(VX, axis=1)\n",
    "cov = np.cov(VX)"
   ]
  },
  {
   "cell_type": "markdown",
   "metadata": {},
   "source": [
    "Matrix for calculating Galactocentric positions from equatorial coordinates."
   ]
  },
  {
   "cell_type": "code",
   "execution_count": null,
   "metadata": {},
   "outputs": [],
   "source": [
    "def r_icrs(ra_deg, dec_deg, d):\n",
    "    ra, dec = deg_to_rad(np.array([ra_deg, dec_deg]))\n",
    "    return np.array([[d * np.cos(ra) * np.cos(dec)],\n",
    "                     [d * np.sin(ra) * np.cos(dec)],\n",
    "                     [d * np.sin(dec)]])\n",
    "\n",
    "def eqtogal(ra, dec, d):\n",
    "    \n",
    "    r = r_icrs(ra, dec, d)\n",
    "    R1 = np.array([[np.cos(dec_gc), 0, np.sin(dec_gc)],\n",
    "                   [0, 1, 0],\n",
    "                   [-np.sin(dec_gc), 0, np.cos(dec_gc)]])\n",
    "    R2 = np.array([[np.cos(ra_gc), np.sin(ra_gc), 0],\n",
    "                   [-np.sin(ra_gc), np.cos(ra_gc), 0],\n",
    "                   [0, 0, 1]])\n",
    "    R3 = np.array([[1, 0, 0],\n",
    "                   [0, np.cos(eta), np.sin(eta)],\n",
    "                   [0, -np.sin(eta), np.cos(eta)]])\n",
    "    R1_R2 = np.dot(R1, R2)\n",
    "    R = np.dot(R3, R1_R2)\n",
    "    \n",
    "    xhat = np.array([[1, 0, 0]]).T\n",
    "    R_r = np.dot(R, r)\n",
    "    rdash = R_r - d_gc * xhat\n",
    "    \n",
    "    theta = np.arcsin(zsun/d_gc)\n",
    "    H = np.array([[np.cos(theta), 0, np.sin(theta)],\n",
    "                  [0, 1, 0],\n",
    "                  [-np.sin(theta), 0, np.cos(theta)]])\n",
    "    \n",
    "    rgc = np.dot(H, rdash)\n",
    "    return rgc"
   ]
  },
  {
   "cell_type": "markdown",
   "metadata": {},
   "source": [
    "Code for converting km/s to mas/yr."
   ]
  },
  {
   "cell_type": "code",
   "execution_count": 378,
   "metadata": {},
   "outputs": [],
   "source": [
    "def cartesian_to_angular_no_units(km_s, kpc):\n",
    "    to_km_yr = 365.2425 * 24*3600\n",
    "    to_m_yr = 1000\n",
    "    to_kpc_yr = 1./3.0856775814671917e+19\n",
    "    to_rad_yr = 1./kpc\n",
    "    to_deg_yr = 360/(2*np.pi)\n",
    "    to_mas_yr = 3600*1000\n",
    "    return np.arcsin((km_s * to_km_yr) * to_m_yr * to_kpc_yr * to_rad_yr) * to_deg_yr * to_mas_yr"
   ]
  },
  {
   "cell_type": "code",
   "execution_count": 372,
   "metadata": {},
   "outputs": [],
   "source": [
    "def get_tangent_basis(ra, dec):\n",
    "    \"\"\"\n",
    "    row vectors are the tangent-space basis at (alpha, delta, r)\n",
    "    ra, dec in radians\n",
    "    \"\"\"\n",
    "\n",
    "    # Precompute this matrix and save for each star.\n",
    "    M = np.array([\n",
    "        [-np.sin(ra), np.cos(ra), 0.],\n",
    "        [-np.sin(dec)*np.cos(ra), -np.sin(dec)*np.sin(ra), np.cos(dec)],\n",
    "        [np.cos(dec)*np.cos(ra), np.cos(dec)*np.sin(ra), np.sin(dec)]\n",
    "    ])\n",
    "    return M\n",
    "\n",
    "\n",
    "def get_icrs_from_galactocentric(xyz, vxyz, ra, dec, distance):\n",
    "\n",
    "    # Parameters\n",
    "    dx = xyz - sun_xyz\n",
    "    dv = vxyz - sun_vxyz\n",
    "\n",
    "    # M is precomputed for each star, R_gal is same matrix, so just do this\n",
    "    # dot product.\n",
    "    proj_dv = M @ R_gal @ dv\n",
    "    \n",
    "    print(proj_dv)\n",
    "    \n",
    "    # Calculate the unit conversion using 1kms/1km and transform.\n",
    "    pm = (proj_dv[:2] / (distance*u.kpc)).to(u.mas/u.yr, u.dimensionless_angles())\n",
    "\n",
    "    print(cartesian_vel_to_angular_vel(proj_dv[:2], distance))\n",
    "    print(cartesian_to_angular_no_units(proj_dv[:2].value, distance))\n",
    "    print(pm)\n",
    "    rv = proj_dv[2]\n",
    "\n",
    "    return pm, rv"
   ]
  },
  {
   "cell_type": "code",
   "execution_count": 373,
   "metadata": {},
   "outputs": [],
   "source": [
    "def lnlike_one_star(params, pm, pm_err, pos, pos_err):\n",
    "\n",
    "    # Unpack parameters and make distance linear.\n",
    "    vx, vy, vz, lnD = params\n",
    "    D = np.exp(lnD)\n",
    "\n",
    "    # Calculate XYZ position from ra, dec and parallax\n",
    "    c = coord.SkyCoord(ra = pos[0]*u.deg,\n",
    "                       dec = pos[1]*u.deg,\n",
    "                       distance = D*u.kpc)\n",
    "    galcen = c.transform_to(galcen_frame)\n",
    "\n",
    "    # Calculate pm and rv from XYZ and V_XYZ\n",
    "    V_xyz_units = [vx, vy, vz]*u.km*u.s**-1\n",
    "    pm_from_v, rv_from_v = get_icrs_from_galactocentric(galcen.data.xyz, V_xyz_units, pos[0], pos[1], D)\n",
    "    \n",
    "    # Compare this proper motion with observed proper motion.\n",
    "    return -.5*(pm_from_v[0].value - pm[0])**2/pm_err[0]**2 \\\n",
    "           -.5*(pm_from_v[1].value - pm[1])**2/pm_err[1]**2 \\\n",
    "           -.5*(1./D - pos[2])**2/pos_err[2]**2\n",
    "\n",
    "\n",
    "def multivariate_lngaussian(pos, mu, Sigma):\n",
    "    n = mu.shape[0]\n",
    "    Sigma_det = np.linalg.det(Sigma)\n",
    "    Sigma_inv = np.linalg.inv(Sigma)\n",
    "    N = np.sqrt((2*np.pi)**n * Sigma_det)\n",
    "    fac = np.einsum('...k,kl,...l->...', pos-mu, Sigma_inv, pos-mu)\n",
    "    return -fac / 2 - np.log(N)\n",
    "\n",
    "\n",
    "def lnprior(params):\n",
    "    vx, vy, vz, lnD = params\n",
    "    pos = np.stack((vx, vy, vz, lnD))\n",
    "    return float(multivariate_lngaussian(pos, mean, cov))\n",
    "\n",
    "\n",
    "def lnprob(params, pm, pm_err, pos, pos_err):\n",
    "    return lnlike_one_star(params, pm, pm_err, pos, pos_err) + lnprior(params)"
   ]
  },
  {
   "cell_type": "code",
   "execution_count": 374,
   "metadata": {},
   "outputs": [
    {
     "name": "stdout",
     "output_type": "stream",
     "text": [
      "[[-0.90626493 -0.42271015  0.        ]\n",
      " [-0.33834048  0.72538148  0.59945594]\n",
      " [-0.25339611  0.5432659  -0.80040775]] (3, 3)\n"
     ]
    }
   ],
   "source": [
    "# Format parameter and data arrays.\n",
    "df = vels.iloc[0]\n",
    "\n",
    "pos = [df[\"ra\"], df[\"dec\"], df[\"parallax\"]]\n",
    "pos_err = [df[\"ra_error\"], df[\"dec_error\"], df[\"parallax_error\"]]\n",
    "pm = [df[\"pmra\"], df[\"pmdec\"]]\n",
    "pm_err = [df[\"pmra_error\"], df[\"pmdec_error\"]]\n",
    "inits = [df[\"basic_vx\"], df[\"basic_vy\"], df[\"basic_vz\"],\n",
    "         np.log(1./df[\"parallax\"])]\n",
    "\n",
    "M = get_tangent_basis(pos[0], pos[1])\n",
    "print(M, np.shape(M))"
   ]
  },
  {
   "cell_type": "markdown",
   "metadata": {},
   "source": [
    "Test lhf."
   ]
  },
  {
   "cell_type": "code",
   "execution_count": 375,
   "metadata": {},
   "outputs": [
    {
     "name": "stdout",
     "output_type": "stream",
     "text": [
      "[-7.89978781 18.4815184  23.5488333 ] km / s\n",
      "[-14.83074391  34.69645933] mas / yr\n",
      "[-14.83074391  34.69645933]\n",
      "[-14.83104845  34.69717179] mas / yr\n"
     ]
    },
    {
     "data": {
      "text/plain": [
       "-161300.67926439925"
      ]
     },
     "execution_count": 375,
     "metadata": {},
     "output_type": "execute_result"
    }
   ],
   "source": [
    "lnlike_one_star(inits, pm, pm_err, pos, pos_err)"
   ]
  },
  {
   "cell_type": "code",
   "execution_count": null,
   "metadata": {},
   "outputs": [],
   "source": []
  },
  {
   "cell_type": "code",
   "execution_count": 168,
   "metadata": {},
   "outputs": [
    {
     "name": "stderr",
     "output_type": "stream",
     "text": [
      " 17%|█▋        | 17/100 [00:01<00:07, 10.51it/s]Traceback (most recent call last):\n",
      "  File \"/Users/rangus/Applications/anaconda3/lib/python3.7/site-packages/emcee/ensemble.py\", line 545, in __call__\n",
      "    return self.f(x, *self.args, **self.kwargs)\n",
      "  File \"/Users/rangus/projects/aviary/aviary/inference.py\", line 182, in lnprob\n",
      "    return lnlike_one_star(params, pm, pm_err, pos, pos_err) + lnprior(params)\n",
      "  File \"/Users/rangus/projects/aviary/aviary/inference.py\", line 104, in lnlike_one_star\n",
      "    pm_from_v, rv_from_v = proper_motion_model(params, pos)\n",
      "  File \"/Users/rangus/projects/aviary/aviary/inference.py\", line 69, in proper_motion_model\n",
      "    galcen = c.transform_to(galcen_frame)\n",
      "  File \"/Users/rangus/Applications/anaconda3/lib/python3.7/site-packages/astropy/coordinates/sky_coordinate.py\", line 442, in transform_to\n",
      "    new_coord = trans(self.frame, generic_frame)\n",
      "  File \"/Users/rangus/Applications/anaconda3/lib/python3.7/site-packages/astropy/coordinates/transformations.py\", line 1382, in __call__\n",
      "    curr_coord = t(curr_coord, curr_toframe)\n",
      "  File \"/Users/rangus/Applications/anaconda3/lib/python3.7/site-packages/astropy/coordinates/transformations.py\", line 1200, in __call__\n",
      "    M, vec = self.transform_func(fromcoord, toframe)\n",
      "  File \"/Users/rangus/Applications/anaconda3/lib/python3.7/site-packages/astropy/coordinates/builtin_frames/galactocentric.py\", line 457, in icrs_to_galactocentric\n",
      "    return get_matrix_vectors(galactocentric_frame)\n",
      "  File \"/Users/rangus/Applications/anaconda3/lib/python3.7/site-packages/astropy/coordinates/builtin_frames/galactocentric.py\", line 421, in get_matrix_vectors\n",
      "    offset = -translation.transform(H)\n",
      "  File \"/Users/rangus/Applications/anaconda3/lib/python3.7/site-packages/astropy/coordinates/representation.py\", line 315, in __neg__\n",
      "    return self._scale_operation(operator.neg)\n",
      "  File \"/Users/rangus/Applications/anaconda3/lib/python3.7/site-packages/astropy/coordinates/representation.py\", line 814, in _scale_operation\n",
      "    results.append(op(value, *args))\n",
      "KeyboardInterrupt\n",
      " 18%|█▊        | 18/100 [00:01<00:07, 10.34it/s]"
     ]
    },
    {
     "name": "stdout",
     "output_type": "stream",
     "text": [
      "emcee: Exception while calling your likelihood function:\n",
      "  params: [ -8.89724563 224.13813637   2.78238484  -2.18261978]\n",
      "  args: ([11.035856985126493, 21.341856214187025], [0.04921520115408177, 0.06202796979847151], [291.03375415995947, 36.771136728882695, 8.899751332953752], [0.020699824905698168, 0.027315001853058653, 0.025810174130249525])\n",
      "  kwargs: {}\n",
      "  exception:\n"
     ]
    },
    {
     "name": "stderr",
     "output_type": "stream",
     "text": [
      "\n"
     ]
    },
    {
     "ename": "KeyboardInterrupt",
     "evalue": "",
     "output_type": "error",
     "traceback": [
      "\u001b[0;31m---------------------------------------------------------------------------\u001b[0m",
      "\u001b[0;31mKeyboardInterrupt\u001b[0m                         Traceback (most recent call last)",
      "\u001b[0;32m<ipython-input-168-e3268c8a2472>\u001b[0m in \u001b[0;36m<module>\u001b[0;34m\u001b[0m\n\u001b[1;32m      6\u001b[0m \u001b[0;34m\u001b[0m\u001b[0m\n\u001b[1;32m      7\u001b[0m \u001b[0mnsteps\u001b[0m \u001b[0;34m=\u001b[0m \u001b[0;36m100\u001b[0m\u001b[0;34m\u001b[0m\u001b[0;34m\u001b[0m\u001b[0m\n\u001b[0;32m----> 8\u001b[0;31m \u001b[0msampler\u001b[0m\u001b[0;34m.\u001b[0m\u001b[0mrun_mcmc\u001b[0m\u001b[0;34m(\u001b[0m\u001b[0mp0\u001b[0m\u001b[0;34m,\u001b[0m \u001b[0mnsteps\u001b[0m\u001b[0;34m,\u001b[0m \u001b[0mprogress\u001b[0m\u001b[0;34m=\u001b[0m\u001b[0;32mTrue\u001b[0m\u001b[0;34m)\u001b[0m\u001b[0;34m;\u001b[0m\u001b[0;34m\u001b[0m\u001b[0;34m\u001b[0m\u001b[0m\n\u001b[0m\u001b[1;32m      9\u001b[0m \u001b[0;34m\u001b[0m\u001b[0m\n\u001b[1;32m     10\u001b[0m \u001b[0;31m# Extract inferred parameters and uncertainties.\u001b[0m\u001b[0;34m\u001b[0m\u001b[0;34m\u001b[0m\u001b[0;34m\u001b[0m\u001b[0m\n",
      "\u001b[0;32m~/Applications/anaconda3/lib/python3.7/site-packages/emcee/ensemble.py\u001b[0m in \u001b[0;36mrun_mcmc\u001b[0;34m(self, initial_state, nsteps, **kwargs)\u001b[0m\n\u001b[1;32m    382\u001b[0m \u001b[0;34m\u001b[0m\u001b[0m\n\u001b[1;32m    383\u001b[0m         \u001b[0mresults\u001b[0m \u001b[0;34m=\u001b[0m \u001b[0;32mNone\u001b[0m\u001b[0;34m\u001b[0m\u001b[0;34m\u001b[0m\u001b[0m\n\u001b[0;32m--> 384\u001b[0;31m         \u001b[0;32mfor\u001b[0m \u001b[0mresults\u001b[0m \u001b[0;32min\u001b[0m \u001b[0mself\u001b[0m\u001b[0;34m.\u001b[0m\u001b[0msample\u001b[0m\u001b[0;34m(\u001b[0m\u001b[0minitial_state\u001b[0m\u001b[0;34m,\u001b[0m \u001b[0miterations\u001b[0m\u001b[0;34m=\u001b[0m\u001b[0mnsteps\u001b[0m\u001b[0;34m,\u001b[0m \u001b[0;34m**\u001b[0m\u001b[0mkwargs\u001b[0m\u001b[0;34m)\u001b[0m\u001b[0;34m:\u001b[0m\u001b[0;34m\u001b[0m\u001b[0;34m\u001b[0m\u001b[0m\n\u001b[0m\u001b[1;32m    385\u001b[0m             \u001b[0;32mpass\u001b[0m\u001b[0;34m\u001b[0m\u001b[0;34m\u001b[0m\u001b[0m\n\u001b[1;32m    386\u001b[0m \u001b[0;34m\u001b[0m\u001b[0m\n",
      "\u001b[0;32m~/Applications/anaconda3/lib/python3.7/site-packages/emcee/ensemble.py\u001b[0m in \u001b[0;36msample\u001b[0;34m(self, initial_state, log_prob0, rstate0, blobs0, iterations, tune, skip_initial_state_check, thin_by, thin, store, progress)\u001b[0m\n\u001b[1;32m    341\u001b[0m \u001b[0;34m\u001b[0m\u001b[0m\n\u001b[1;32m    342\u001b[0m                     \u001b[0;31m# Propose\u001b[0m\u001b[0;34m\u001b[0m\u001b[0;34m\u001b[0m\u001b[0;34m\u001b[0m\u001b[0m\n\u001b[0;32m--> 343\u001b[0;31m                     \u001b[0mstate\u001b[0m\u001b[0;34m,\u001b[0m \u001b[0maccepted\u001b[0m \u001b[0;34m=\u001b[0m \u001b[0mmove\u001b[0m\u001b[0;34m.\u001b[0m\u001b[0mpropose\u001b[0m\u001b[0;34m(\u001b[0m\u001b[0mmodel\u001b[0m\u001b[0;34m,\u001b[0m \u001b[0mstate\u001b[0m\u001b[0;34m)\u001b[0m\u001b[0;34m\u001b[0m\u001b[0;34m\u001b[0m\u001b[0m\n\u001b[0m\u001b[1;32m    344\u001b[0m                     \u001b[0mstate\u001b[0m\u001b[0;34m.\u001b[0m\u001b[0mrandom_state\u001b[0m \u001b[0;34m=\u001b[0m \u001b[0mself\u001b[0m\u001b[0;34m.\u001b[0m\u001b[0mrandom_state\u001b[0m\u001b[0;34m\u001b[0m\u001b[0;34m\u001b[0m\u001b[0m\n\u001b[1;32m    345\u001b[0m \u001b[0;34m\u001b[0m\u001b[0m\n",
      "\u001b[0;32m~/Applications/anaconda3/lib/python3.7/site-packages/emcee/moves/red_blue.py\u001b[0m in \u001b[0;36mpropose\u001b[0;34m(self, model, state)\u001b[0m\n\u001b[1;32m     91\u001b[0m \u001b[0;34m\u001b[0m\u001b[0m\n\u001b[1;32m     92\u001b[0m             \u001b[0;31m# Compute the lnprobs of the proposed position.\u001b[0m\u001b[0;34m\u001b[0m\u001b[0;34m\u001b[0m\u001b[0;34m\u001b[0m\u001b[0m\n\u001b[0;32m---> 93\u001b[0;31m             \u001b[0mnew_log_probs\u001b[0m\u001b[0;34m,\u001b[0m \u001b[0mnew_blobs\u001b[0m \u001b[0;34m=\u001b[0m \u001b[0mmodel\u001b[0m\u001b[0;34m.\u001b[0m\u001b[0mcompute_log_prob_fn\u001b[0m\u001b[0;34m(\u001b[0m\u001b[0mq\u001b[0m\u001b[0;34m)\u001b[0m\u001b[0;34m\u001b[0m\u001b[0;34m\u001b[0m\u001b[0m\n\u001b[0m\u001b[1;32m     94\u001b[0m \u001b[0;34m\u001b[0m\u001b[0m\n\u001b[1;32m     95\u001b[0m             \u001b[0;31m# Loop over the walkers and update them accordingly.\u001b[0m\u001b[0;34m\u001b[0m\u001b[0;34m\u001b[0m\u001b[0;34m\u001b[0m\u001b[0m\n",
      "\u001b[0;32m~/Applications/anaconda3/lib/python3.7/site-packages/emcee/ensemble.py\u001b[0m in \u001b[0;36mcompute_log_prob\u001b[0;34m(self, coords)\u001b[0m\n\u001b[1;32m    425\u001b[0m                 \u001b[0mmap_func\u001b[0m \u001b[0;34m=\u001b[0m \u001b[0mmap\u001b[0m\u001b[0;34m\u001b[0m\u001b[0;34m\u001b[0m\u001b[0m\n\u001b[1;32m    426\u001b[0m             results = list(\n\u001b[0;32m--> 427\u001b[0;31m                 \u001b[0mmap_func\u001b[0m\u001b[0;34m(\u001b[0m\u001b[0mself\u001b[0m\u001b[0;34m.\u001b[0m\u001b[0mlog_prob_fn\u001b[0m\u001b[0;34m,\u001b[0m \u001b[0;34m(\u001b[0m\u001b[0mp\u001b[0m\u001b[0;34m[\u001b[0m\u001b[0mi\u001b[0m\u001b[0;34m]\u001b[0m \u001b[0;32mfor\u001b[0m \u001b[0mi\u001b[0m \u001b[0;32min\u001b[0m \u001b[0mrange\u001b[0m\u001b[0;34m(\u001b[0m\u001b[0mlen\u001b[0m\u001b[0;34m(\u001b[0m\u001b[0mp\u001b[0m\u001b[0;34m)\u001b[0m\u001b[0;34m)\u001b[0m\u001b[0;34m)\u001b[0m\u001b[0;34m)\u001b[0m\u001b[0;34m\u001b[0m\u001b[0;34m\u001b[0m\u001b[0m\n\u001b[0m\u001b[1;32m    428\u001b[0m             )\n\u001b[1;32m    429\u001b[0m \u001b[0;34m\u001b[0m\u001b[0m\n",
      "\u001b[0;32m~/Applications/anaconda3/lib/python3.7/site-packages/emcee/ensemble.py\u001b[0m in \u001b[0;36m__call__\u001b[0;34m(self, x)\u001b[0m\n\u001b[1;32m    543\u001b[0m     \u001b[0;32mdef\u001b[0m \u001b[0m__call__\u001b[0m\u001b[0;34m(\u001b[0m\u001b[0mself\u001b[0m\u001b[0;34m,\u001b[0m \u001b[0mx\u001b[0m\u001b[0;34m)\u001b[0m\u001b[0;34m:\u001b[0m\u001b[0;34m\u001b[0m\u001b[0;34m\u001b[0m\u001b[0m\n\u001b[1;32m    544\u001b[0m         \u001b[0;32mtry\u001b[0m\u001b[0;34m:\u001b[0m\u001b[0;34m\u001b[0m\u001b[0;34m\u001b[0m\u001b[0m\n\u001b[0;32m--> 545\u001b[0;31m             \u001b[0;32mreturn\u001b[0m \u001b[0mself\u001b[0m\u001b[0;34m.\u001b[0m\u001b[0mf\u001b[0m\u001b[0;34m(\u001b[0m\u001b[0mx\u001b[0m\u001b[0;34m,\u001b[0m \u001b[0;34m*\u001b[0m\u001b[0mself\u001b[0m\u001b[0;34m.\u001b[0m\u001b[0margs\u001b[0m\u001b[0;34m,\u001b[0m \u001b[0;34m**\u001b[0m\u001b[0mself\u001b[0m\u001b[0;34m.\u001b[0m\u001b[0mkwargs\u001b[0m\u001b[0;34m)\u001b[0m\u001b[0;34m\u001b[0m\u001b[0;34m\u001b[0m\u001b[0m\n\u001b[0m\u001b[1;32m    546\u001b[0m         \u001b[0;32mexcept\u001b[0m\u001b[0;34m:\u001b[0m  \u001b[0;31m# pragma: no cover\u001b[0m\u001b[0;34m\u001b[0m\u001b[0;34m\u001b[0m\u001b[0m\n\u001b[1;32m    547\u001b[0m             \u001b[0;32mimport\u001b[0m \u001b[0mtraceback\u001b[0m\u001b[0;34m\u001b[0m\u001b[0;34m\u001b[0m\u001b[0m\n",
      "\u001b[0;32m~/projects/aviary/aviary/inference.py\u001b[0m in \u001b[0;36mlnprob\u001b[0;34m(params, pm, pm_err, pos, pos_err)\u001b[0m\n\u001b[1;32m    180\u001b[0m     \"\"\"\n\u001b[1;32m    181\u001b[0m \u001b[0;34m\u001b[0m\u001b[0m\n\u001b[0;32m--> 182\u001b[0;31m     \u001b[0;32mreturn\u001b[0m \u001b[0mlnlike_one_star\u001b[0m\u001b[0;34m(\u001b[0m\u001b[0mparams\u001b[0m\u001b[0;34m,\u001b[0m \u001b[0mpm\u001b[0m\u001b[0;34m,\u001b[0m \u001b[0mpm_err\u001b[0m\u001b[0;34m,\u001b[0m \u001b[0mpos\u001b[0m\u001b[0;34m,\u001b[0m \u001b[0mpos_err\u001b[0m\u001b[0;34m)\u001b[0m \u001b[0;34m+\u001b[0m \u001b[0mlnprior\u001b[0m\u001b[0;34m(\u001b[0m\u001b[0mparams\u001b[0m\u001b[0;34m)\u001b[0m\u001b[0;34m\u001b[0m\u001b[0;34m\u001b[0m\u001b[0m\n\u001b[0m",
      "\u001b[0;32m~/projects/aviary/aviary/inference.py\u001b[0m in \u001b[0;36mlnlike_one_star\u001b[0;34m(params, pm, pm_err, pos, pos_err)\u001b[0m\n\u001b[1;32m    102\u001b[0m     \u001b[0mD\u001b[0m \u001b[0;34m=\u001b[0m \u001b[0mnp\u001b[0m\u001b[0;34m.\u001b[0m\u001b[0mexp\u001b[0m\u001b[0;34m(\u001b[0m\u001b[0mlnD\u001b[0m\u001b[0;34m)\u001b[0m\u001b[0;34m\u001b[0m\u001b[0;34m\u001b[0m\u001b[0m\n\u001b[1;32m    103\u001b[0m \u001b[0;34m\u001b[0m\u001b[0m\n\u001b[0;32m--> 104\u001b[0;31m     \u001b[0mpm_from_v\u001b[0m\u001b[0;34m,\u001b[0m \u001b[0mrv_from_v\u001b[0m \u001b[0;34m=\u001b[0m \u001b[0mproper_motion_model\u001b[0m\u001b[0;34m(\u001b[0m\u001b[0mparams\u001b[0m\u001b[0;34m,\u001b[0m \u001b[0mpos\u001b[0m\u001b[0;34m)\u001b[0m\u001b[0;34m\u001b[0m\u001b[0;34m\u001b[0m\u001b[0m\n\u001b[0m\u001b[1;32m    105\u001b[0m \u001b[0;34m\u001b[0m\u001b[0m\n\u001b[1;32m    106\u001b[0m     \u001b[0;31m# Compare this proper motion with observed proper motion.\u001b[0m\u001b[0;34m\u001b[0m\u001b[0;34m\u001b[0m\u001b[0;34m\u001b[0m\u001b[0m\n",
      "\u001b[0;32m~/projects/aviary/aviary/inference.py\u001b[0m in \u001b[0;36mproper_motion_model\u001b[0;34m(params, pos)\u001b[0m\n\u001b[1;32m     67\u001b[0m                        \u001b[0mdec\u001b[0m \u001b[0;34m=\u001b[0m \u001b[0mpos\u001b[0m\u001b[0;34m[\u001b[0m\u001b[0;36m1\u001b[0m\u001b[0;34m]\u001b[0m\u001b[0;34m*\u001b[0m\u001b[0mu\u001b[0m\u001b[0;34m.\u001b[0m\u001b[0mdeg\u001b[0m\u001b[0;34m,\u001b[0m\u001b[0;34m\u001b[0m\u001b[0;34m\u001b[0m\u001b[0m\n\u001b[1;32m     68\u001b[0m                        distance = D*u.kpc)\n\u001b[0;32m---> 69\u001b[0;31m     \u001b[0mgalcen\u001b[0m \u001b[0;34m=\u001b[0m \u001b[0mc\u001b[0m\u001b[0;34m.\u001b[0m\u001b[0mtransform_to\u001b[0m\u001b[0;34m(\u001b[0m\u001b[0mgalcen_frame\u001b[0m\u001b[0;34m)\u001b[0m\u001b[0;34m\u001b[0m\u001b[0;34m\u001b[0m\u001b[0m\n\u001b[0m\u001b[1;32m     70\u001b[0m \u001b[0;34m\u001b[0m\u001b[0m\n\u001b[1;32m     71\u001b[0m     \u001b[0;31m# Calculate pm and rv from XYZ and V_XYZ\u001b[0m\u001b[0;34m\u001b[0m\u001b[0;34m\u001b[0m\u001b[0;34m\u001b[0m\u001b[0m\n",
      "\u001b[0;32m~/Applications/anaconda3/lib/python3.7/site-packages/astropy/coordinates/sky_coordinate.py\u001b[0m in \u001b[0;36mtransform_to\u001b[0;34m(self, frame, merge_attributes)\u001b[0m\n\u001b[1;32m    440\u001b[0m         \u001b[0;31m# Do the transformation, returning a coordinate frame of the desired\u001b[0m\u001b[0;34m\u001b[0m\u001b[0;34m\u001b[0m\u001b[0;34m\u001b[0m\u001b[0m\n\u001b[1;32m    441\u001b[0m         \u001b[0;31m# final type (not generic).\u001b[0m\u001b[0;34m\u001b[0m\u001b[0;34m\u001b[0m\u001b[0;34m\u001b[0m\u001b[0m\n\u001b[0;32m--> 442\u001b[0;31m         \u001b[0mnew_coord\u001b[0m \u001b[0;34m=\u001b[0m \u001b[0mtrans\u001b[0m\u001b[0;34m(\u001b[0m\u001b[0mself\u001b[0m\u001b[0;34m.\u001b[0m\u001b[0mframe\u001b[0m\u001b[0;34m,\u001b[0m \u001b[0mgeneric_frame\u001b[0m\u001b[0;34m)\u001b[0m\u001b[0;34m\u001b[0m\u001b[0;34m\u001b[0m\u001b[0m\n\u001b[0m\u001b[1;32m    443\u001b[0m \u001b[0;34m\u001b[0m\u001b[0m\n\u001b[1;32m    444\u001b[0m         \u001b[0;31m# Finally make the new SkyCoord object from the `new_coord` and\u001b[0m\u001b[0;34m\u001b[0m\u001b[0;34m\u001b[0m\u001b[0;34m\u001b[0m\u001b[0m\n",
      "\u001b[0;32m~/Applications/anaconda3/lib/python3.7/site-packages/astropy/coordinates/transformations.py\u001b[0m in \u001b[0;36m__call__\u001b[0;34m(self, fromcoord, toframe)\u001b[0m\n\u001b[1;32m   1380\u001b[0m \u001b[0;34m\u001b[0m\u001b[0m\n\u001b[1;32m   1381\u001b[0m             \u001b[0mcurr_toframe\u001b[0m \u001b[0;34m=\u001b[0m \u001b[0mt\u001b[0m\u001b[0;34m.\u001b[0m\u001b[0mtosys\u001b[0m\u001b[0;34m(\u001b[0m\u001b[0;34m**\u001b[0m\u001b[0mfrattrs\u001b[0m\u001b[0;34m)\u001b[0m\u001b[0;34m\u001b[0m\u001b[0;34m\u001b[0m\u001b[0m\n\u001b[0;32m-> 1382\u001b[0;31m             \u001b[0mcurr_coord\u001b[0m \u001b[0;34m=\u001b[0m \u001b[0mt\u001b[0m\u001b[0;34m(\u001b[0m\u001b[0mcurr_coord\u001b[0m\u001b[0;34m,\u001b[0m \u001b[0mcurr_toframe\u001b[0m\u001b[0;34m)\u001b[0m\u001b[0;34m\u001b[0m\u001b[0;34m\u001b[0m\u001b[0m\n\u001b[0m\u001b[1;32m   1383\u001b[0m \u001b[0;34m\u001b[0m\u001b[0m\n\u001b[1;32m   1384\u001b[0m         \u001b[0;31m# this is safe even in the case where self.transforms is empty, because\u001b[0m\u001b[0;34m\u001b[0m\u001b[0;34m\u001b[0m\u001b[0;34m\u001b[0m\u001b[0m\n",
      "\u001b[0;32m~/Applications/anaconda3/lib/python3.7/site-packages/astropy/coordinates/transformations.py\u001b[0m in \u001b[0;36m__call__\u001b[0;34m(self, fromcoord, toframe)\u001b[0m\n\u001b[1;32m   1198\u001b[0m     \u001b[0;32mdef\u001b[0m \u001b[0m__call__\u001b[0m\u001b[0;34m(\u001b[0m\u001b[0mself\u001b[0m\u001b[0;34m,\u001b[0m \u001b[0mfromcoord\u001b[0m\u001b[0;34m,\u001b[0m \u001b[0mtoframe\u001b[0m\u001b[0;34m)\u001b[0m\u001b[0;34m:\u001b[0m\u001b[0;34m\u001b[0m\u001b[0;34m\u001b[0m\u001b[0m\n\u001b[1;32m   1199\u001b[0m \u001b[0;34m\u001b[0m\u001b[0m\n\u001b[0;32m-> 1200\u001b[0;31m         \u001b[0mM\u001b[0m\u001b[0;34m,\u001b[0m \u001b[0mvec\u001b[0m \u001b[0;34m=\u001b[0m \u001b[0mself\u001b[0m\u001b[0;34m.\u001b[0m\u001b[0mtransform_func\u001b[0m\u001b[0;34m(\u001b[0m\u001b[0mfromcoord\u001b[0m\u001b[0;34m,\u001b[0m \u001b[0mtoframe\u001b[0m\u001b[0;34m)\u001b[0m\u001b[0;34m\u001b[0m\u001b[0;34m\u001b[0m\u001b[0m\n\u001b[0m\u001b[1;32m   1201\u001b[0m         \u001b[0mnewrep\u001b[0m \u001b[0;34m=\u001b[0m \u001b[0mself\u001b[0m\u001b[0;34m.\u001b[0m\u001b[0m_apply_transform\u001b[0m\u001b[0;34m(\u001b[0m\u001b[0mfromcoord\u001b[0m\u001b[0;34m,\u001b[0m \u001b[0mM\u001b[0m\u001b[0;34m,\u001b[0m \u001b[0mvec\u001b[0m\u001b[0;34m)\u001b[0m\u001b[0;34m\u001b[0m\u001b[0;34m\u001b[0m\u001b[0m\n\u001b[1;32m   1202\u001b[0m \u001b[0;34m\u001b[0m\u001b[0m\n",
      "\u001b[0;32m~/Applications/anaconda3/lib/python3.7/site-packages/astropy/coordinates/builtin_frames/galactocentric.py\u001b[0m in \u001b[0;36micrs_to_galactocentric\u001b[0;34m(icrs_coord, galactocentric_frame)\u001b[0m\n\u001b[1;32m    455\u001b[0m \u001b[0;32mdef\u001b[0m \u001b[0micrs_to_galactocentric\u001b[0m\u001b[0;34m(\u001b[0m\u001b[0micrs_coord\u001b[0m\u001b[0;34m,\u001b[0m \u001b[0mgalactocentric_frame\u001b[0m\u001b[0;34m)\u001b[0m\u001b[0;34m:\u001b[0m\u001b[0;34m\u001b[0m\u001b[0;34m\u001b[0m\u001b[0m\n\u001b[1;32m    456\u001b[0m     \u001b[0m_check_coord_repr_diff_types\u001b[0m\u001b[0;34m(\u001b[0m\u001b[0micrs_coord\u001b[0m\u001b[0;34m)\u001b[0m\u001b[0;34m\u001b[0m\u001b[0;34m\u001b[0m\u001b[0m\n\u001b[0;32m--> 457\u001b[0;31m     \u001b[0;32mreturn\u001b[0m \u001b[0mget_matrix_vectors\u001b[0m\u001b[0;34m(\u001b[0m\u001b[0mgalactocentric_frame\u001b[0m\u001b[0;34m)\u001b[0m\u001b[0;34m\u001b[0m\u001b[0;34m\u001b[0m\u001b[0m\n\u001b[0m\u001b[1;32m    458\u001b[0m \u001b[0;34m\u001b[0m\u001b[0m\n\u001b[1;32m    459\u001b[0m \u001b[0;34m\u001b[0m\u001b[0m\n",
      "\u001b[0;32m~/Applications/anaconda3/lib/python3.7/site-packages/astropy/coordinates/builtin_frames/galactocentric.py\u001b[0m in \u001b[0;36mget_matrix_vectors\u001b[0;34m(galactocentric_frame, inverse)\u001b[0m\n\u001b[1;32m    419\u001b[0m     \u001b[0;31m# Now we re-align the translation vector to account for the Sun's height\u001b[0m\u001b[0;34m\u001b[0m\u001b[0;34m\u001b[0m\u001b[0;34m\u001b[0m\u001b[0m\n\u001b[1;32m    420\u001b[0m     \u001b[0;31m# above the midplane\u001b[0m\u001b[0;34m\u001b[0m\u001b[0;34m\u001b[0m\u001b[0;34m\u001b[0m\u001b[0m\n\u001b[0;32m--> 421\u001b[0;31m     \u001b[0moffset\u001b[0m \u001b[0;34m=\u001b[0m \u001b[0;34m-\u001b[0m\u001b[0mtranslation\u001b[0m\u001b[0;34m.\u001b[0m\u001b[0mtransform\u001b[0m\u001b[0;34m(\u001b[0m\u001b[0mH\u001b[0m\u001b[0;34m)\u001b[0m\u001b[0;34m\u001b[0m\u001b[0;34m\u001b[0m\u001b[0m\n\u001b[0m\u001b[1;32m    422\u001b[0m \u001b[0;34m\u001b[0m\u001b[0m\n\u001b[1;32m    423\u001b[0m     \u001b[0;32mif\u001b[0m \u001b[0minverse\u001b[0m\u001b[0;34m:\u001b[0m\u001b[0;34m\u001b[0m\u001b[0;34m\u001b[0m\u001b[0m\n",
      "\u001b[0;32m~/Applications/anaconda3/lib/python3.7/site-packages/astropy/coordinates/representation.py\u001b[0m in \u001b[0;36m__neg__\u001b[0;34m(self)\u001b[0m\n\u001b[1;32m    313\u001b[0m \u001b[0;34m\u001b[0m\u001b[0m\n\u001b[1;32m    314\u001b[0m     \u001b[0;32mdef\u001b[0m \u001b[0m__neg__\u001b[0m\u001b[0;34m(\u001b[0m\u001b[0mself\u001b[0m\u001b[0;34m)\u001b[0m\u001b[0;34m:\u001b[0m\u001b[0;34m\u001b[0m\u001b[0;34m\u001b[0m\u001b[0m\n\u001b[0;32m--> 315\u001b[0;31m         \u001b[0;32mreturn\u001b[0m \u001b[0mself\u001b[0m\u001b[0;34m.\u001b[0m\u001b[0m_scale_operation\u001b[0m\u001b[0;34m(\u001b[0m\u001b[0moperator\u001b[0m\u001b[0;34m.\u001b[0m\u001b[0mneg\u001b[0m\u001b[0;34m)\u001b[0m\u001b[0;34m\u001b[0m\u001b[0;34m\u001b[0m\u001b[0m\n\u001b[0m\u001b[1;32m    316\u001b[0m \u001b[0;34m\u001b[0m\u001b[0m\n\u001b[1;32m    317\u001b[0m     \u001b[0;31m# Follow numpy convention and make an independent copy.\u001b[0m\u001b[0;34m\u001b[0m\u001b[0;34m\u001b[0m\u001b[0;34m\u001b[0m\u001b[0m\n",
      "\u001b[0;32m~/Applications/anaconda3/lib/python3.7/site-packages/astropy/coordinates/representation.py\u001b[0m in \u001b[0;36m_scale_operation\u001b[0;34m(self, op, *args)\u001b[0m\n\u001b[1;32m    812\u001b[0m                 \u001b[0mresults\u001b[0m\u001b[0;34m.\u001b[0m\u001b[0mappend\u001b[0m\u001b[0;34m(\u001b[0m\u001b[0mvalue\u001b[0m\u001b[0;34m)\u001b[0m\u001b[0;34m\u001b[0m\u001b[0;34m\u001b[0m\u001b[0m\n\u001b[1;32m    813\u001b[0m             \u001b[0;32melse\u001b[0m\u001b[0;34m:\u001b[0m\u001b[0;34m\u001b[0m\u001b[0;34m\u001b[0m\u001b[0m\n\u001b[0;32m--> 814\u001b[0;31m                 \u001b[0mresults\u001b[0m\u001b[0;34m.\u001b[0m\u001b[0mappend\u001b[0m\u001b[0;34m(\u001b[0m\u001b[0mop\u001b[0m\u001b[0;34m(\u001b[0m\u001b[0mvalue\u001b[0m\u001b[0;34m,\u001b[0m \u001b[0;34m*\u001b[0m\u001b[0margs\u001b[0m\u001b[0;34m)\u001b[0m\u001b[0;34m)\u001b[0m\u001b[0;34m\u001b[0m\u001b[0;34m\u001b[0m\u001b[0m\n\u001b[0m\u001b[1;32m    815\u001b[0m \u001b[0;34m\u001b[0m\u001b[0m\n\u001b[1;32m    816\u001b[0m         \u001b[0;31m# try/except catches anything that cannot initialize the class, such\u001b[0m\u001b[0;34m\u001b[0m\u001b[0;34m\u001b[0m\u001b[0;34m\u001b[0m\u001b[0m\n",
      "\u001b[0;31mKeyboardInterrupt\u001b[0m: "
     ]
    }
   ],
   "source": [
    "# Run MCMC.\n",
    "ndim, nwalkers = 4, 16\n",
    "p0 = np.random.randn(nwalkers, ndim)*1e-2 + inits\n",
    "sampler = emcee.EnsembleSampler(nwalkers, ndim, av.lnprob,\n",
    "                                args=(pm, pm_err, pos, pos_err))\n",
    "\n",
    "nsteps = 100\n",
    "sampler.run_mcmc(p0, nsteps, progress=True);\n",
    "\n",
    "# Extract inferred parameters and uncertainties.\n",
    "flat_samples = sampler.get_chain(discard=int(nsteps/2), flat=True)\n",
    "params_inferred = np.median(flat_samples, axis=0)"
   ]
  },
  {
   "cell_type": "code",
   "execution_count": 69,
   "metadata": {},
   "outputs": [
    {
     "name": "stderr",
     "output_type": "stream",
     "text": [
      "WARNING:root:Too few points to create valid contours\n"
     ]
    },
    {
     "data": {
      "image/png": "[encoded data removed]",
      "text/plain": [
       "<Figure size 698.4x698.4 with 16 Axes>"
      ]
     },
     "metadata": {
      "needs_background": "light"
     },
     "output_type": "display_data"
    }
   ],
   "source": [
    "fig = corner.corner(flat_samples, truths=inits)\n",
    "fig.savefig(\"corner\")"
   ]
  },
  {
   "cell_type": "markdown",
   "metadata": {},
   "source": [
    "Now try to rewrite this in PyMC3..."
   ]
  },
  {
   "cell_type": "code",
   "execution_count": null,
   "metadata": {},
   "outputs": [],
   "source": [
    "# Things I need:\n",
    "# A matrix rotation to go from ra, dec, distance to x, y, z.\n",
    "\n",
    "\n",
    "with pm.Model() as model:\n",
    "        \n",
    "    # Set up the parameters\n",
    "    params = pm.MvNormal(\"params\", mu=mean, cov=cov, shape=(4))\n",
    "\n",
    "    \n",
    "    # The model\n",
    "    \n",
    "    # Parameters\n",
    "    dx = xyz - sun_xyz\n",
    "    dv = vxyz - sun_vxyz\n",
    "\n",
    "    # M is precomputed for each star, R_gal is same matrix, so just do this\n",
    "    # dot product.\n",
    "    proj_dv = M @ R_gal @ dv\n",
    "    \n",
    "    # Calculate the unit conversion using 1kms/1km and transform.\n",
    "    pm = (proj_dv[:2] / (distance*u.kpc)).to(u.mas/u.yr, u.dimensionless_angles())\n",
    "    rv = proj_dv[2]\n",
    "    \n",
    "    \n",
    "\n",
    "    \n",
    "    \n",
    "    \n",
    "    \n",
    "    \n",
    "    \n",
    "    # Likelihood\n",
    "    pm.Normal(\"parallax_obs\", mu=mu, sigma=np.array(df.parallax_error),\n",
    "              observed=np.array(df.parallax_mas))\n",
    "    \n",
    "    simple_trace = pm.sample(tune=5000, draws=5000)"
   ]
  },
  {
   "cell_type": "code",
   "execution_count": 16,
   "metadata": {},
   "outputs": [
    {
     "data": {
      "text/latex": [
       "$[-8.0829401,~0.10357572,~0.019281234] \\; \\mathrm{kpc}$"
      ],
      "text/plain": [
       "<Quantity [-8.08294007,  0.10357572,  0.01928123] kpc>"
      ]
     },
     "execution_count": 16,
     "metadata": {},
     "output_type": "execute_result"
    }
   ],
   "source": [
    "# Calculate XYZ position from ra, dec and parallax\n",
    "c = coord.SkyCoord(ra = df.ra*u.deg,\n",
    "                   dec = df.dec*u.deg,\n",
    "                   distance = (1./df.parallax)*u.kpc)\n",
    "galcen = c.transform_to(galcen_frame)\n",
    "galcen.data.xyz"
   ]
  },
  {
   "cell_type": "code",
   "execution_count": 29,
   "metadata": {},
   "outputs": [],
   "source": [
    "# Calculate XYZ position from ra, dec and parallax\n",
    "ds = np.linspace(0, 100, 100)\n",
    "\n",
    "x, y, z = [], [], []\n",
    "for d in ds:\n",
    "    c = coord.SkyCoord(ra = 0*u.deg,\n",
    "                       dec = 90*u.deg,\n",
    "                       distance = d*u.kpc)\n",
    "    galcen = c.transform_to(galcen_frame)\n",
    "    x.append(galcen.data.xyz.value[0])\n",
    "    y.append(galcen.data.xyz.value[1])\n",
    "    z.append(galcen.data.xyz.value[2])"
   ]
  },
  {
   "cell_type": "code",
   "execution_count": 32,
   "metadata": {},
   "outputs": [
    {
     "data": {
      "text/plain": [
       "[<matplotlib.lines.Line2D at 0x1a29160410>]"
      ]
     },
     "execution_count": 32,
     "metadata": {},
     "output_type": "execute_result"
    },
    {
     "data": {
      "image/png": "[encoded data removed]",
      "text/plain": [
       "<Figure size 432x288 with 1 Axes>"
      ]
     },
     "metadata": {
      "needs_background": "light"
     },
     "output_type": "display_data"
    }
   ],
   "source": [
    "%matplotlib inline\n",
    "import matplotlib.pyplot as plt\n",
    "plt.plot(ds, z)"
   ]
  },
  {
   "cell_type": "markdown",
   "metadata": {},
   "source": [
    "TEST. Convert mas/yr to km/s and back. "
   ]
  },
  {
   "cell_type": "code",
   "execution_count": 343,
   "metadata": {},
   "outputs": [
    {
     "data": {
      "text/latex": [
       "$20 \\; \\mathrm{\\frac{mas}{yr}}$"
      ],
      "text/plain": [
       "<Quantity 20. mas / yr>"
      ]
     },
     "execution_count": 343,
     "metadata": {},
     "output_type": "execute_result"
    }
   ],
   "source": [
    "pm = 20 * u.mas/u.yr\n",
    "distance = 5\n",
    "pm"
   ]
  },
  {
   "cell_type": "code",
   "execution_count": 344,
   "metadata": {},
   "outputs": [
    {
     "data": {
      "text/latex": [
       "$5.5555556 \\times 10^{-6} \\; \\mathrm{\\frac{{}^{\\circ}}{yr}}$"
      ],
      "text/plain": [
       "<Quantity 5.55555556e-06 deg / yr>"
      ]
     },
     "execution_count": 344,
     "metadata": {},
     "output_type": "execute_result"
    }
   ],
   "source": [
    "# Convert to degrees/yr\n",
    "pm /= ((3600*1000)*u.mas/u.deg)\n",
    "pm"
   ]
  },
  {
   "cell_type": "code",
   "execution_count": 345,
   "metadata": {},
   "outputs": [
    {
     "data": {
      "text/latex": [
       "$9.6962736 \\times 10^{-8} \\; \\mathrm{\\frac{rad}{yr}}$"
      ],
      "text/plain": [
       "<Quantity 9.69627362e-08 rad / yr>"
      ]
     },
     "execution_count": 345,
     "metadata": {},
     "output_type": "execute_result"
    }
   ],
   "source": [
    "# Convert to radians/yr\n",
    "pm *= 2*np.pi/360 * u.rad/u.deg\n",
    "pm"
   ]
  },
  {
   "cell_type": "code",
   "execution_count": 346,
   "metadata": {},
   "outputs": [
    {
     "data": {
      "text/latex": [
       "$4.8481368 \\times 10^{-7} \\; \\mathrm{\\frac{kpc}{yr}}$"
      ],
      "text/plain": [
       "<Quantity 4.84813681e-07 kpc / yr>"
      ]
     },
     "execution_count": 346,
     "metadata": {},
     "output_type": "execute_result"
    }
   ],
   "source": [
    "# Convert to distance.\n",
    "pm *= distance*u.kpc /u.rad\n",
    "pm"
   ]
  },
  {
   "cell_type": "code",
   "execution_count": 347,
   "metadata": {},
   "outputs": [
    {
     "data": {
      "text/latex": [
       "$1.4959787 \\times 10^{13} \\; \\mathrm{\\frac{m}{yr}}$"
      ],
      "text/plain": [
       "<Quantity 1.49597871e+13 m / yr>"
      ]
     },
     "execution_count": 347,
     "metadata": {},
     "output_type": "execute_result"
    }
   ],
   "source": [
    "import astropy.constants as const\n",
    "\n",
    "# Convert to m/yr\n",
    "pm *= const.kpc/u.kpc\n",
    "pm"
   ]
  },
  {
   "cell_type": "code",
   "execution_count": 348,
   "metadata": {},
   "outputs": [
    {
     "data": {
      "text/latex": [
       "$1.4959787 \\times 10^{10} \\; \\mathrm{\\frac{km}{yr}}$"
      ],
      "text/plain": [
       "<Quantity 1.49597871e+10 km / yr>"
      ]
     },
     "execution_count": 348,
     "metadata": {},
     "output_type": "execute_result"
    }
   ],
   "source": [
    "# convert to km/yr\n",
    "pm *= 1e-3*u.km/u.m\n",
    "pm"
   ]
  },
  {
   "cell_type": "code",
   "execution_count": 349,
   "metadata": {},
   "outputs": [
    {
     "data": {
      "text/latex": [
       "$474.04705 \\; \\mathrm{\\frac{km}{s}}$"
      ],
      "text/plain": [
       "<Quantity 474.04704635 km / s>"
      ]
     },
     "execution_count": 349,
     "metadata": {},
     "output_type": "execute_result"
    }
   ],
   "source": [
    "# convert to km/s\n",
    "yr = 24*60*60*365.25\n",
    "pm /= yr*u.s/u.yr\n",
    "pm"
   ]
  },
  {
   "cell_type": "code",
   "execution_count": 350,
   "metadata": {},
   "outputs": [
    {
     "name": "stdout",
     "output_type": "stream",
     "text": [
      "474.04704634962087 km / s\n",
      "94.80940926992417 km / (kpc s)\n"
     ]
    }
   ],
   "source": [
    "print(pm)\n",
    "print((pm / (distance*u.kpc)))"
   ]
  },
  {
   "cell_type": "code",
   "execution_count": 351,
   "metadata": {},
   "outputs": [
    {
     "name": "stdout",
     "output_type": "stream",
     "text": [
      "20.000000000000004 mas / yr\n"
     ]
    }
   ],
   "source": [
    "print((pm / (distance*u.kpc)).to(u.mas/u.yr, u.dimensionless_angles()))"
   ]
  },
  {
   "cell_type": "markdown",
   "metadata": {},
   "source": [
    "Now do that in reverse."
   ]
  },
  {
   "cell_type": "code",
   "execution_count": 377,
   "metadata": {},
   "outputs": [],
   "source": [
    "def cartesian_vel_to_angular_vel(km_s, kpc):\n",
    "    to_km_yr = (365.2425 * 24*3600)*u.s/u.yr\n",
    "    to_m_yr = 1000*u.m/u.km\n",
    "    to_kpc_yr = 1./(const.kpc/u.kpc)\n",
    "    to_rad_yr = u.rad/u.kpc/kpc\n",
    "    to_deg_yr = 360*u.deg/(2*np.pi*u.rad)\n",
    "    to_mas_yr = 3600*1000*u.mas/u.deg\n",
    "    return np.arcsin(((km_s * to_km_yr) * to_m_yr * to_kpc_yr * to_rad_yr).value) *u.rad/u.yr * to_deg_yr * to_mas_yr\n",
    "\n",
    "def cartesian_to_angular_no_units(km_s, kpc):\n",
    "    to_km_yr = 365.2425 * 24*3600\n",
    "    to_m_yr = 1000\n",
    "    to_kpc_yr = 1./3.0856775814671917e+19\n",
    "    to_rad_yr = 1./kpc\n",
    "    to_deg_yr = 360/(2*np.pi)\n",
    "    to_mas_yr = 3600*1000\n",
    "    return np.arcsin((km_s * to_km_yr) * to_m_yr * to_kpc_yr * to_rad_yr) * to_deg_yr * to_mas_yr"
   ]
  },
  {
   "cell_type": "code",
   "execution_count": 361,
   "metadata": {},
   "outputs": [
    {
     "data": {
      "text/plain": [
       "3.0856775814671917e+19"
      ]
     },
     "execution_count": 361,
     "metadata": {},
     "output_type": "execute_result"
    }
   ],
   "source": [
    "const.kpc.value"
   ]
  },
  {
   "cell_type": "code",
   "execution_count": 362,
   "metadata": {},
   "outputs": [],
   "source": [
    "# print((pm * (365.2425 * 24*3600)*u.s/u.yr))  # convert to km/yr\n",
    "# print((pm * (365.2425 * 24*3600)*u.s/u.yr) * 1000*u.m/u.km)  # convert to m/yr\n",
    "# print((pm * (365.2425 * 24*3600)*u.s/u.yr) * 1000*u.m/u.km / (const.kpc/u.kpc)) # convert to kpc/yr\n",
    "# print((pm * (365.2425 * 24*3600)*u.s/u.yr) * 1000*u.m/u.km / (const.kpc/u.kpc) * u.rad/u.kpc/5) # convert to angle\n",
    "# print((pm * (365.2425 * 24*3600)*u.s/u.yr) * 1000*u.m/u.km / (const.kpc/u.kpc) * u.rad/u.kpc/5 * (360*u.deg/(2*np.pi*u.rad))) # convert to degrees\n",
    "# print((pm * (365.2425 * 24*3600)*u.s/u.yr) * 1000*u.m/u.km / (const.kpc/u.kpc) * u.rad/u.kpc/5 * (360*u.deg/(2*np.pi*u.rad)) * (3600*1000*u.mas/u.deg)) # convert to mas"
   ]
  },
  {
   "cell_type": "code",
   "execution_count": 363,
   "metadata": {},
   "outputs": [
    {
     "name": "stdout",
     "output_type": "stream",
     "text": [
      "19.99958932238196 mas / yr\n",
      "19.99958932238196\n"
     ]
    }
   ],
   "source": [
    "print(cartesian_vel_to_angular_vel(pm, distance))\n",
    "print(cartesian_to_angular_no_units(pm.value, distance))"
   ]
  },
  {
   "cell_type": "code",
   "execution_count": 339,
   "metadata": {},
   "outputs": [
    {
     "data": {
      "text/latex": [
       "$474.04705 \\; \\mathrm{\\frac{km}{s}}$"
      ],
      "text/plain": [
       "<Quantity 474.04704635 km / s>"
      ]
     },
     "execution_count": 339,
     "metadata": {},
     "output_type": "execute_result"
    }
   ],
   "source": [
    "pm"
   ]
  },
  {
   "cell_type": "code",
   "execution_count": 340,
   "metadata": {},
   "outputs": [
    {
     "data": {
      "text/latex": [
       "$[-7.4267526,~1.8435963,~0.34319637] \\; \\mathrm{kpc}$"
      ],
      "text/plain": [
       "<Quantity [-7.42675264,  1.84359631,  0.34319637] kpc>"
      ]
     },
     "execution_count": 340,
     "metadata": {},
     "output_type": "execute_result"
    }
   ],
   "source": [
    "# Calculate XYZ position from ra, dec and parallax\n",
    "c = coord.SkyCoord(ra = pos[0]*u.deg,\n",
    "                   dec = pos[1]*u.deg,\n",
    "                   distance = 2*u.kpc)\n",
    "galcen = c.transform_to(galcen_frame)\n",
    "galcen.data.xyz"
   ]
  },
  {
   "cell_type": "code",
   "execution_count": null,
   "metadata": {},
   "outputs": [],
   "source": [
    "def equatorial_to_Galactic(ra, dec, distance):\n",
    "    pos = "
   ]
  }
 ],
 "metadata": {
  "kernelspec": {
   "display_name": "Python 3",
   "language": "python",
   "name": "python3"
  },
  "language_info": {
   "codemirror_mode": {
    "name": "ipython",
    "version": 3
   },
   "file_extension": ".py",
   "mimetype": "text/x-python",
   "name": "python",
   "nbconvert_exporter": "python",
   "pygments_lexer": "ipython3",
   "version": "3.7.6"
  }
 },
 "nbformat": 4,
 "nbformat_minor": 4
}
