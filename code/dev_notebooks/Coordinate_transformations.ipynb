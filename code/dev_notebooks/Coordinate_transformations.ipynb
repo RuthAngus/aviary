{
 "cells": [
  {
   "cell_type": "markdown",
   "metadata": {},
   "source": [
    "# Implementing and testing the equatorial to Galactocentric transformation in Astropy"
   ]
  },
  {
   "cell_type": "markdown",
   "metadata": {},
   "source": [
    "https://docs.astropy.org/en/stable/coordinates/galactocentric.html#coordinates-galactocentric"
   ]
  },
  {
   "cell_type": "code",
   "execution_count": 618,
   "metadata": {},
   "outputs": [],
   "source": [
    "%matplotlib inline"
   ]
  },
  {
   "cell_type": "code",
   "execution_count": 619,
   "metadata": {},
   "outputs": [
    {
     "data": {
      "text/plain": [
       "<Galactocentric Frame (galcen_coord=<ICRS Coordinate: (ra, dec) in deg\n",
       "    (266.4051, -28.936175)>, galcen_distance=8.3 kpc, galcen_v_sun=(11.1, 232.24, 7.25) km / s, z_sun=27.0 pc, roll=0.0 deg)>"
      ]
     },
     "execution_count": 619,
     "metadata": {},
     "output_type": "execute_result"
    }
   ],
   "source": [
    "import numpy as np\n",
    "import matplotlib.pyplot as plt\n",
    "\n",
    "\n",
    "import astropy.stats as aps\n",
    "import astropy.coordinates as coord\n",
    "import astropy.units as u\n",
    "from astropy.coordinates.builtin_frames.galactocentric \\\n",
    "    import get_matrix_vectors\n",
    "import warnings\n",
    "from astropy.utils.exceptions import AstropyWarning\n",
    "warnings.simplefilter('ignore', category=AstropyWarning)\n",
    "\n",
    "from astropy.coordinates import Galactocentric\n",
    "Galactocentric()"
   ]
  },
  {
   "cell_type": "code",
   "execution_count": 620,
   "metadata": {},
   "outputs": [],
   "source": [
    "# Helper function for converting degrees to radians.\n",
    "def deg_to_rad(deg):\n",
    "    # rads / 2pi = degrees / 360\n",
    "    return deg * (2 * np.pi) / 360\n",
    "\n",
    "def rad_to_deg(rad):\n",
    "    return rad * 360 / (2 * np.pi)\n",
    "\n",
    "assert deg_to_rad(0) == 0\n",
    "assert deg_to_rad(90)*2 == np.pi\n",
    "assert deg_to_rad(180) == np.pi\n",
    "assert deg_to_rad(360) == 2*np.pi\n",
    "\n",
    "th1, th2 = deg_to_rad(np.array([0, 90]))\n",
    "assert th1 == 0\n",
    "assert th2*2 == np.pi "
   ]
  },
  {
   "cell_type": "markdown",
   "metadata": {},
   "source": [
    "Constants"
   ]
  },
  {
   "cell_type": "code",
   "execution_count": 621,
   "metadata": {},
   "outputs": [],
   "source": [
    "ra_gc_deg, dec_gc_deg = 266.4051, -28.936175\n",
    "\n",
    "ra_gc, dec_gc = deg_to_rad(np.array([ra_gc_deg, dec_gc_deg]))\n",
    "\n",
    "eta_deg = 58.5986320306\n",
    "eta = deg_to_rad(eta_deg)\n",
    "\n",
    "d_gc = 8.3\n",
    "zsun = 27.*1e-3"
   ]
  },
  {
   "cell_type": "markdown",
   "metadata": {},
   "source": [
    "Test star parameters."
   ]
  },
  {
   "cell_type": "code",
   "execution_count": 622,
   "metadata": {},
   "outputs": [],
   "source": [
    "nstars = 1\n",
    "ra = ra_gc_deg\n",
    "dec = dec_gc_deg\n",
    "d = 1 # kpc"
   ]
  },
  {
   "cell_type": "markdown",
   "metadata": {},
   "source": [
    "Convert to cartesian coordinates."
   ]
  },
  {
   "cell_type": "code",
   "execution_count": 628,
   "metadata": {},
   "outputs": [
    {
     "name": "stdout",
     "output_type": "stream",
     "text": [
      "[[1.40953893]\n",
      " [0.        ]\n",
      " [0.51303021]]\n"
     ]
    }
   ],
   "source": [
    "#  Rotation matrix to convert to cartesian.\n",
    "\n",
    "def r_icrs(ra_deg, dec_deg, d):\n",
    "    ra, dec = deg_to_rad(np.array([ra_deg, dec_deg]))\n",
    "    return np.array([\n",
    "        [d * np.cos(ra) * np.cos(dec)],\n",
    "        [d * np.sin(ra) * np.cos(dec)],\n",
    "        [d * np.sin(dec)]\n",
    "    ])\n",
    "\n",
    "r = r_icrs(ra, dec, d)\n",
    "print(r_icrs(0, 20, 1.5))\n",
    "\n",
    "assert np.shape(r)[0] == 3\n",
    "assert np.shape(r)[1] == nstars"
   ]
  },
  {
   "cell_type": "markdown",
   "metadata": {},
   "source": [
    "In /Users/rangus/Applications/anaconda3/lib/python3.7/site-packages/astropy/coordinates/builtin_frames/galactocentric.py:"
   ]
  },
  {
   "cell_type": "code",
   "execution_count": 629,
   "metadata": {},
   "outputs": [],
   "source": [
    "# <Galactocentric Frame (galcen_coord=<ICRS Coordinate: (ra, dec) in deg\n",
    "#     (266.4051, -28.936175)>, galcen_distance=8.122 kpc, galcen_v_sun=(12.9, 245.6, 7.78) km / s, z_sun=20.8 pc, roll=0.0 deg)>"
   ]
  },
  {
   "cell_type": "markdown",
   "metadata": {},
   "source": [
    "R Rotates the cartesian frame so that x points towards the galactic center and y is in line with the Galactic plane."
   ]
  },
  {
   "cell_type": "code",
   "execution_count": 630,
   "metadata": {},
   "outputs": [],
   "source": [
    "# Rotation matrices to point the x-axis towards the Galactic center.\n",
    "\n",
    "R1 = np.array([\n",
    "    [np.cos(dec_gc), 0, np.sin(dec_gc)],\n",
    "    [0, 1, 0],\n",
    "    [-np.sin(dec_gc), 0, np.cos(dec_gc)]\n",
    "])\n",
    "\n",
    "R2 = np.array([\n",
    "    [np.cos(ra_gc), np.sin(ra_gc), 0],\n",
    "    [-np.sin(ra_gc), np.cos(ra_gc), 0],\n",
    "    [0, 0, 1]\n",
    "])\n",
    "\n",
    "assert np.shape(R1) == (3, 3)\n",
    "assert np.shape(R2) == (3, 3)"
   ]
  },
  {
   "cell_type": "code",
   "execution_count": 631,
   "metadata": {},
   "outputs": [
    {
     "name": "stdout",
     "output_type": "stream",
     "text": [
      "[[1.00000000e+00]\n",
      " [0.00000000e+00]\n",
      " [5.55111512e-17]]\n"
     ]
    }
   ],
   "source": [
    "R1_R2 = np.dot(R1, R2)\n",
    "print(np.dot(R1_R2, r))"
   ]
  },
  {
   "cell_type": "code",
   "execution_count": 632,
   "metadata": {},
   "outputs": [],
   "source": [
    "# Now align with the plane of the Galaxy, with roll angle eta.\n",
    "\n",
    "R3 = np.array([\n",
    "    [1, 0, 0],\n",
    "    [0, np.cos(eta), np.sin(eta)],\n",
    "    [0, -np.sin(eta), np.cos(eta)]\n",
    "])\n",
    "\n",
    "assert np.shape(R3) == (3, 3)"
   ]
  },
  {
   "cell_type": "code",
   "execution_count": 633,
   "metadata": {},
   "outputs": [
    {
     "name": "stdout",
     "output_type": "stream",
     "text": [
      "[[1.]\n",
      " [0.]\n",
      " [0.]]\n"
     ]
    }
   ],
   "source": [
    "# R = R3 . R1 . R2\n",
    "\n",
    "R3_R1 = np.dot(R3, R1)\n",
    "Rtest = np.dot(R3_R1, R2)\n",
    "\n",
    "R1_R2 = np.dot(R1, R2)\n",
    "R = np.dot(R3, R1_R2)\n",
    "\n",
    "# for i in range(3):\n",
    "#     for j in range(3):\n",
    "#         assert np.isclose(R[i, j], Rtest[i, j], atol=1e-10)\n",
    "# assert np.shape(R) == (3, 3)\n",
    "\n",
    "# R = np.dot(R1_R2, R3)\n",
    "R = np.dot(R3, R1_R2)\n",
    "# R = np.dot(R3_R1, R2)\n",
    "\n",
    "print(np.dot(R, r))"
   ]
  },
  {
   "cell_type": "code",
   "execution_count": 634,
   "metadata": {},
   "outputs": [],
   "source": [
    "def full_R():\n",
    "    return np.array([\n",
    "        [np.cos(ra_gc)*np.cos(dec_gc), np.cos(dec_gc)*np.sin(ra_gc), -np.sin(dec_gc)],\n",
    "        [np.cos(ra_gc)*np.sin(dec_gc)*np.sin(eta) - np.sin(ra_gc)*np.cos(eta), np.sin(ra_gc)*np.sin(dec_gc)*np.sin(eta)+np.cos(ra_gc)*np.cos(eta), np.cos(dec_gc)*np.sin(eta)],\n",
    "        [np.cos(ra_gc)*np.sin(dec_gc)*np.cos(eta) + np.sin(ra_gc)*np.sin(eta), np.sin(ra_gc)*np.sin(dec_gc)*np.cos(eta) - np.cos(ra_gc)*np.sin(eta), np.cos(dec_gc)*np.cos(eta)]\n",
    "    ])"
   ]
  },
  {
   "cell_type": "code",
   "execution_count": 635,
   "metadata": {},
   "outputs": [
    {
     "name": "stdout",
     "output_type": "stream",
     "text": [
      "[[1.]\n",
      " [0.]\n",
      " [0.]]\n"
     ]
    }
   ],
   "source": [
    "print(np.dot(R, r))"
   ]
  },
  {
   "cell_type": "markdown",
   "metadata": {},
   "source": [
    "Subtract the distance to the Galactic center."
   ]
  },
  {
   "cell_type": "code",
   "execution_count": 636,
   "metadata": {},
   "outputs": [
    {
     "name": "stdout",
     "output_type": "stream",
     "text": [
      "[[-7.3]\n",
      " [ 0. ]\n",
      " [ 0. ]]\n",
      "[[1.]\n",
      " [0.]\n",
      " [0.]]\n"
     ]
    }
   ],
   "source": [
    "xhat = np.array([[1, 0, 0]]).T\n",
    "\n",
    "R_r = np.dot(R, r)\n",
    "rdash = R_r - (d_gc * xhat)\n",
    "print(rdash)\n",
    "print(R_r)"
   ]
  },
  {
   "cell_type": "markdown",
   "metadata": {},
   "source": [
    "Account for Sun's height above the midplane."
   ]
  },
  {
   "cell_type": "code",
   "execution_count": 637,
   "metadata": {},
   "outputs": [
    {
     "name": "stdout",
     "output_type": "stream",
     "text": [
      "x =  -7.29996137527886 kpc\n",
      "y =  0.0 kpc\n",
      "z =  0.02374698795180723 kpc\n"
     ]
    }
   ],
   "source": [
    "theta = np.arcsin(zsun/d_gc)\n",
    "\n",
    "H = np.array([\n",
    "    [np.cos(theta), 0, np.sin(theta)],\n",
    "    [0, 1, 0],\n",
    "    [-np.sin(theta), 0, np.cos(theta)]\n",
    "])\n",
    "\n",
    "rgc = np.dot(H, rdash)\n",
    "print(\"x = \", rgc[0][0]*u.kpc)\n",
    "print(\"y = \", rgc[1][0]*u.kpc)\n",
    "print(\"z = \", rgc[2][0]*u.kpc)"
   ]
  },
  {
   "cell_type": "markdown",
   "metadata": {},
   "source": [
    "Put it all together."
   ]
  },
  {
   "cell_type": "code",
   "execution_count": 638,
   "metadata": {},
   "outputs": [],
   "source": [
    "def eqtogal(ra, dec, d):\n",
    "    \n",
    "    r = r_icrs(ra, dec, d)\n",
    "\n",
    "    R1 = np.array([[np.cos(dec_gc), 0, np.sin(dec_gc)],\n",
    "                   [0, 1, 0],\n",
    "                   [-np.sin(dec_gc), 0, np.cos(dec_gc)]])\n",
    "    R2 = np.array([[np.cos(ra_gc), np.sin(ra_gc), 0],\n",
    "                   [-np.sin(ra_gc), np.cos(ra_gc), 0],\n",
    "                   [0, 0, 1]])\n",
    "    R3 = np.array([[1, 0, 0],\n",
    "                   [0, np.cos(eta), np.sin(eta)],\n",
    "                   [0, -np.sin(eta), np.cos(eta)]])\n",
    "    \n",
    "    R1_R2 = np.dot(R1, R2)\n",
    "    R = np.dot(R3, R1_R2)\n",
    "    \n",
    "    xhat = np.array([[1, 0, 0]]).T\n",
    "    R_r = np.dot(R, r)\n",
    "    rdash = R_r - d_gc * xhat\n",
    "    \n",
    "    theta = np.arcsin(zsun/d_gc)\n",
    "    H = np.array([[np.cos(theta), 0, np.sin(theta)],\n",
    "                  [0, 1, 0],\n",
    "                  [-np.sin(theta), 0, np.cos(theta)]])\n",
    "    \n",
    "    rgc = np.dot(H, rdash)\n",
    "    return rgc"
   ]
  },
  {
   "cell_type": "code",
   "execution_count": 639,
   "metadata": {},
   "outputs": [
    {
     "name": "stdout",
     "output_type": "stream",
     "text": [
      "x =  -7.29996137527886 kpc\n",
      "y =  0.0 kpc\n",
      "z =  0.02374698795180723 kpc\n"
     ]
    }
   ],
   "source": [
    "rgc = eqtogal(ra, dec, d)\n",
    "print(\"x = \", rgc[0][0]*u.kpc)\n",
    "print(\"y = \", rgc[1][0]*u.kpc)\n",
    "print(\"z = \", rgc[2][0]*u.kpc)"
   ]
  },
  {
   "cell_type": "markdown",
   "metadata": {},
   "source": [
    "Compare with Astropy."
   ]
  },
  {
   "cell_type": "code",
   "execution_count": 640,
   "metadata": {},
   "outputs": [
    {
     "name": "stdout",
     "output_type": "stream",
     "text": [
      "x =  -7.299961375278859 kpc\n",
      "y =  0.0 kpc\n",
      "z =  0.023746987951807217 kpc\n"
     ]
    }
   ],
   "source": [
    "galcen_frame = coord.Galactocentric()\n",
    "\n",
    "# Calculate XYZ position from ra, dec and parallax\n",
    "c = coord.SkyCoord(ra = ra*u.deg,\n",
    "                   dec = dec*u.deg,\n",
    "                   distance = d*u.kpc)\n",
    "galcen = c.transform_to(galcen_frame)\n",
    "\n",
    "print(\"x = \", galcen.data.xyz[0])\n",
    "print(\"y = \", galcen.data.xyz[1])\n",
    "print(\"z = \", galcen.data.xyz[2])"
   ]
  },
  {
   "cell_type": "markdown",
   "metadata": {},
   "source": [
    "Code for converting km/s to mas/yr."
   ]
  },
  {
   "cell_type": "code",
   "execution_count": 661,
   "metadata": {},
   "outputs": [],
   "source": [
    "def cartesian_to_angular(km_s, kpc):\n",
    "    to_km_yr = (365.2425 * 24*3600)*u.s/u.yr\n",
    "    to_m_yr = 1000*u.m/u.km\n",
    "    to_kpc_yr = 1./(const.kpc/u.kpc)\n",
    "    to_rad_yr = u.rad/u.kpc/kpc\n",
    "    to_deg_yr = 360*u.deg/(2*np.pi*u.rad)\n",
    "    to_mas_yr = 3600*1000*u.mas/u.deg\n",
    "    return np.arcsin(((km_s * to_km_yr) * to_m_yr * to_kpc_yr * to_rad_yr).value) *u.rad/u.yr * to_deg_yr * to_mas_yr\n",
    "\n",
    "def cartesian_to_angular_no_units(km_s, kpc):\n",
    "    to_km_yr = 365.2425 * 24*3600\n",
    "    to_m_yr = 1000\n",
    "    to_kpc_yr = 1./3.0856775814671917e+19\n",
    "    to_rad_yr = 1./kpc\n",
    "    to_deg_yr = 360/(2*np.pi)\n",
    "    to_mas_yr = 3600*1000\n",
    "    return np.arcsin((km_s * to_km_yr) * to_m_yr * to_kpc_yr * to_rad_yr) * to_deg_yr * to_mas_yr"
   ]
  },
  {
   "cell_type": "markdown",
   "metadata": {},
   "source": [
    "Test"
   ]
  },
  {
   "cell_type": "code",
   "execution_count": 662,
   "metadata": {},
   "outputs": [
    {
     "data": {
      "text/latex": [
       "$474.04705 \\; \\mathrm{\\frac{km}{s}}$"
      ],
      "text/plain": [
       "<Quantity 474.04704635 km / s>"
      ]
     },
     "execution_count": 662,
     "metadata": {},
     "output_type": "execute_result"
    }
   ],
   "source": [
    "import astropy.constants as const\n",
    "\n",
    "true_pm = 20 * u.mas/u.yr\n",
    "distance = 5\n",
    "pm = true_pm*1\n",
    "\n",
    "# Convert to degrees/yr\n",
    "pm /= ((3600*1000)*u.mas/u.deg)\n",
    "\n",
    "# Convert to radians/yr\n",
    "pm *= 2*np.pi/360 * u.rad/u.deg\n",
    "\n",
    "# Convert to distance.\n",
    "pm *= distance*u.kpc /u.rad\n",
    "\n",
    "# Convert to m/yr\n",
    "pm *= const.kpc/u.kpc\n",
    "\n",
    "# convert to km/yr\n",
    "pm *= 1e-3*u.km/u.m\n",
    "\n",
    "# convert to km/s\n",
    "yr = 24*60*60*365.25\n",
    "pm /= yr*u.s/u.yr\n",
    "\n",
    "pm"
   ]
  },
  {
   "cell_type": "code",
   "execution_count": 663,
   "metadata": {},
   "outputs": [
    {
     "name": "stdout",
     "output_type": "stream",
     "text": [
      "19.99958932238196 mas / yr\n",
      "19.99958932238196\n"
     ]
    }
   ],
   "source": [
    "print(cartesian_vel_to_angular_vel(pm, distance))\n",
    "print(cartesian_to_angular_no_units(pm.value, distance))"
   ]
  },
  {
   "cell_type": "code",
   "execution_count": 664,
   "metadata": {},
   "outputs": [],
   "source": [
    "assert np.isclose((pm / (distance*u.kpc)).to(u.mas/u.yr, u.dimensionless_angles()), true_pm, atol=1e-10)\n",
    "assert np.isclose(cartesian_to_angular_no_units(pm.value, distance), true_pm.value, atol=1e-3)\n",
    "assert np.isclose(cartesian_to_angular(pm, distance), true_pm, atol=1e-3)"
   ]
  },
  {
   "cell_type": "code",
   "execution_count": null,
   "metadata": {},
   "outputs": [],
   "source": []
  }
 ],
 "metadata": {
  "kernelspec": {
   "display_name": "Python 3",
   "language": "python",
   "name": "python3"
  },
  "language_info": {
   "codemirror_mode": {
    "name": "ipython",
    "version": 3
   },
   "file_extension": ".py",
   "mimetype": "text/x-python",
   "name": "python",
   "nbconvert_exporter": "python",
   "pygments_lexer": "ipython3",
   "version": "3.7.6"
  }
 },
 "nbformat": 4,
 "nbformat_minor": 4
}
