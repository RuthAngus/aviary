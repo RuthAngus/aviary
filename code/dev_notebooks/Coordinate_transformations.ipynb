{
 "cells": [
  {
   "cell_type": "markdown",
   "metadata": {},
   "source": [
    "# Implementing and testing the equatorial to Galactocentric transformation in Astropy"
   ]
  },
  {
   "cell_type": "markdown",
   "metadata": {},
   "source": [
    "https://docs.astropy.org/en/stable/coordinates/galactocentric.html#coordinates-galactocentric"
   ]
  },
  {
   "cell_type": "code",
   "execution_count": 1,
   "metadata": {},
   "outputs": [],
   "source": [
    "%matplotlib inline"
   ]
  },
  {
   "cell_type": "code",
   "execution_count": 93,
   "metadata": {},
   "outputs": [],
   "source": [
    "import numpy as np\n",
    "import matplotlib.pyplot as plt\n",
    "\n",
    "\n",
    "import astropy.stats as aps\n",
    "import astropy.coordinates as coord\n",
    "import astropy.units as u\n",
    "from astropy.coordinates.builtin_frames.galactocentric \\\n",
    "    import get_matrix_vectors\n",
    "import warnings\n",
    "from astropy.utils.exceptions import AstropyWarning\n",
    "warnings.simplefilter('ignore', category=AstropyWarning)"
   ]
  },
  {
   "cell_type": "code",
   "execution_count": 125,
   "metadata": {},
   "outputs": [],
   "source": [
    "# #  Rotation matrix to convert to cartesian.\n",
    "# def r_icrs(ra, dec, d):\n",
    "#     x_icrs = np.array([d * np.cos(ra) * np.cos(dec)])\n",
    "#     y_icrs = np.array([d * np.sin(ra) * np.cos(dec)])\n",
    "#     z_icrs = np.array([d * np.sin(ra)])\n",
    "#     return np.vstack((x_icrs, y_icrs, z_icrs))\n",
    "\n",
    "def r_icrs(ra, dec, d):\n",
    "    return np.array([\n",
    "        [d * np.cos(ra) * np.cos(dec)],\n",
    "        [d * np.sin(ra) * np.cos(dec)],\n",
    "        [d * np.sin(ra)]\n",
    "    ])\n",
    "\n",
    "nstars = 1\n",
    "ra = 30.\n",
    "dec = 17.\n",
    "d = 1.5\n",
    "\n",
    "r = r_icrs(ra, dec, d)\n",
    "\n",
    "assert np.shape(r)[0] == 3\n",
    "assert np.shape(r)[1] == nstars"
   ]
  },
  {
   "cell_type": "markdown",
   "metadata": {},
   "source": [
    "In /Users/rangus/Applications/anaconda3/lib/python3.7/site-packages/astropy/coordinates/builtin_frames/galactocentric.py:"
   ]
  },
  {
   "cell_type": "code",
   "execution_count": 126,
   "metadata": {},
   "outputs": [],
   "source": [
    "# <Galactocentric Frame (galcen_coord=<ICRS Coordinate: (ra, dec) in deg\n",
    "#     (266.4051, -28.936175)>, galcen_distance=8.122 kpc, galcen_v_sun=(12.9, 245.6, 7.78) km / s, z_sun=20.8 pc, roll=0.0 deg)>"
   ]
  },
  {
   "cell_type": "code",
   "execution_count": 127,
   "metadata": {},
   "outputs": [
    {
     "name": "stdout",
     "output_type": "stream",
     "text": [
      "[[-0.78886207  0.          0.61457028]\n",
      " [ 0.          1.          0.        ]\n",
      " [-0.61457028  0.         -0.78886207]]\n",
      "[[-0.80786514  0.58936739  0.        ]\n",
      " [-0.58936739 -0.80786514  0.        ]\n",
      " [ 0.          0.          1.        ]]\n"
     ]
    }
   ],
   "source": [
    "# Rotation matrices to point the x-axis towards the Galactic center.\n",
    "ra_gc, dec_gc = 266.4051, -28.936175\n",
    "d_gc = 8.122\n",
    "\n",
    "R1 = np.array([\n",
    "    [np.cos(dec_gc), 0, np.sin(dec_gc)],\n",
    "    [0, 1, 0],\n",
    "    [-np.sin(dec_gc), 0, np.cos(dec_gc)]\n",
    "])\n",
    "\n",
    "\n",
    "R2 = np.array([\n",
    "    [np.cos(ra_gc), np.sin(ra_gc), 0],\n",
    "    [-np.sin(ra_gc), np.cos(ra_gc), 0],\n",
    "    [0, 0, 1]\n",
    "])\n",
    "\n",
    "assert np.shape(R1) == (3, 3)\n",
    "assert np.shape(R2) == (3, 3)\n",
    "\n",
    "print(R1)\n",
    "print(R2)"
   ]
  },
  {
   "cell_type": "code",
   "execution_count": 128,
   "metadata": {},
   "outputs": [
    {
     "data": {
      "text/plain": [
       "array([[ 1.        ,  0.        ,  0.        ],\n",
       "       [ 0.        , -0.46104098,  0.88737884],\n",
       "       [ 0.        , -0.88737884, -0.46104098]])"
      ]
     },
     "execution_count": 128,
     "metadata": {},
     "output_type": "execute_result"
    }
   ],
   "source": [
    "# Now align with the plane of the Galaxy, with roll angle eta.\n",
    "\n",
    "eta = 58.5986320306\n",
    "\n",
    "R3 = np.array([\n",
    "    [1, 0, 0],\n",
    "    [0, np.cos(eta), np.sin(eta)],\n",
    "    [0, -np.sin(eta), np.cos(eta)]\n",
    "])\n",
    "\n",
    "assert np.shape(R3) == (3, 3)\n",
    "R3"
   ]
  },
  {
   "cell_type": "code",
   "execution_count": 129,
   "metadata": {},
   "outputs": [],
   "source": [
    "# R = R1 . R2 . R3\n",
    "\n",
    "R1_dot_R2 = np.dot(R1, R2)\n",
    "R = np.dot(R1_dot_R2, R3)\n",
    "\n",
    "R2_dot_R3 = np.dot(R2, R3)\n",
    "Rtest = np.dot(R1, R2_dot_R3)\n",
    "\n",
    "for i in range(3):\n",
    "    for j in range(3):\n",
    "        assert np.isclose(R[i, j], Rtest[i, j], atol=1e-10)\n",
    "assert np.shape(R) == (3, 3)"
   ]
  },
  {
   "cell_type": "markdown",
   "metadata": {},
   "source": [
    "Subtract the distance to the Galactic center."
   ]
  },
  {
   "cell_type": "code",
   "execution_count": 130,
   "metadata": {},
   "outputs": [
    {
     "name": "stdout",
     "output_type": "stream",
     "text": [
      "(3, 1)\n",
      "(3, 1)\n",
      "[[-7.2661871]\n",
      " [ 1.2518674]\n",
      " [ 0.2592978]]\n"
     ]
    }
   ],
   "source": [
    "xhat = np.array([[1, 0, 0]]).T\n",
    "print(np.shape(xhat))\n",
    "\n",
    "print(np.shape(np.dot(R, r)))\n",
    "rdash = np.dot(R, r) - d_gc * xhat\n",
    "print(rdash)"
   ]
  },
  {
   "cell_type": "markdown",
   "metadata": {},
   "source": [
    "Account for Sun's height above the midplane."
   ]
  },
  {
   "cell_type": "code",
   "execution_count": 131,
   "metadata": {},
   "outputs": [
    {
     "name": "stdout",
     "output_type": "stream",
     "text": [
      "8.122\n"
     ]
    }
   ],
   "source": [
    "zsun = 20.8 * 1e-3\n",
    "print(d_gc)\n",
    "\n",
    "theta = np.arcsin(zsun/d_gc)\n",
    "\n",
    "H = np.array([\n",
    "    [np.cos(theta), 0, np.sin(theta)],\n",
    "    [0, 1, 0],\n",
    "    [-np.sin(theta), 0, np.cos(theta)]\n",
    "])\n",
    "\n",
    "rgc = np.dot(H, rdash)"
   ]
  },
  {
   "cell_type": "code",
   "execution_count": 132,
   "metadata": {},
   "outputs": [
    {
     "data": {
      "text/plain": [
       "array([[-7.26549923],\n",
       "       [ 1.2518674 ],\n",
       "       [ 0.27790526]])"
      ]
     },
     "execution_count": 132,
     "metadata": {},
     "output_type": "execute_result"
    }
   ],
   "source": [
    "rgc"
   ]
  },
  {
   "cell_type": "code",
   "execution_count": 124,
   "metadata": {},
   "outputs": [
    {
     "name": "stdout",
     "output_type": "stream",
     "text": [
      "[-9.02881222  0.62237289 -1.01997234] kpc\n"
     ]
    }
   ],
   "source": [
    "sun_xyz = [-8.122, 0, 0] * u.kpc\n",
    "sun_vxyz = [12.9, 245.6, 7.78] * u.km/u.s\n",
    "\n",
    "galcen_frame = coord.Galactocentric(galcen_distance=np.abs(sun_xyz[0]),\n",
    "                                    galcen_v_sun=sun_vxyz,\n",
    "                                    z_sun=0*u.pc)\n",
    "\n",
    "# Calculate XYZ position from ra, dec and parallax\n",
    "c = coord.SkyCoord(ra = ra*u.deg,\n",
    "                   dec = dec*u.deg,\n",
    "                   distance = d*u.kpc)\n",
    "galcen = c.transform_to(galcen_frame)\n",
    "print(galcen.data.xyz)"
   ]
  },
  {
   "cell_type": "code",
   "execution_count": null,
   "metadata": {},
   "outputs": [],
   "source": []
  }
 ],
 "metadata": {
  "kernelspec": {
   "display_name": "Python 3",
   "language": "python",
   "name": "python3"
  },
  "language_info": {
   "codemirror_mode": {
    "name": "ipython",
    "version": 3
   },
   "file_extension": ".py",
   "mimetype": "text/x-python",
   "name": "python",
   "nbconvert_exporter": "python",
   "pygments_lexer": "ipython3",
   "version": "3.7.6"
  }
 },
 "nbformat": 4,
 "nbformat_minor": 4
}
