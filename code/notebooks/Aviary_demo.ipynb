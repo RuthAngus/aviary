{
 "cells": [
  {
   "cell_type": "markdown",
   "metadata": {},
   "source": [
    "# How to infer a stellar velocity."
   ]
  },
  {
   "cell_type": "code",
   "execution_count": 1,
   "metadata": {},
   "outputs": [],
   "source": [
    "import numpy as np\n",
    "import matplotlib.pyplot as plt\n",
    "%matplotlib inline\n",
    "import pandas as pd\n",
    "import pymc3 as pm\n",
    "\n",
    "import aviary as av"
   ]
  },
  {
   "cell_type": "markdown",
   "metadata": {},
   "source": [
    "First, you need to construct a prior. We're going to use the velocities of stars in the Kepler field to make a prior because our target stars will also be in the Kepler field. If you're not looking that the Kepler field it's important that you build a custom prior. You'll need to calculate the mean and covariance over the three velocities and ln(distance): Vx; Vy; Vz; lnD for stars in your field of interest. "
   ]
  },
  {
   "cell_type": "code",
   "execution_count": 2,
   "metadata": {},
   "outputs": [
    {
     "name": "stderr",
     "output_type": "stream",
     "text": [
      "/Users/rangus/Applications/anaconda3/lib/python3.7/site-packages/IPython/core/interactiveshell.py:3254: DtypeWarning: Columns (4,5) have mixed types.Specify dtype option on import or set low_memory=False.\n",
      "  if (await self.run_code(code, result,  async_=asy)):\n"
     ]
    }
   ],
   "source": [
    "mu, cov = av.get_prior()"
   ]
  },
  {
   "cell_type": "markdown",
   "metadata": {},
   "source": [
    "Now let's choose a target star."
   ]
  },
  {
   "cell_type": "code",
   "execution_count": 3,
   "metadata": {},
   "outputs": [],
   "source": [
    "kepler_data = av.kepler_data()\n",
    "df = kepler_data.iloc[0]  # Select the first star in our Kepler data catalog."
   ]
  },
  {
   "cell_type": "code",
   "execution_count": 4,
   "metadata": {},
   "outputs": [],
   "source": [
    "# Set up the position and proper motion variables.\n",
    "pos = [float(df[\"ra\"]), float(df[\"dec\"]), float(df[\"parallax\"])]\n",
    "pos_err = [float(df[\"ra_error\"]), float(df[\"dec_error\"]),\n",
    "           float(df[\"parallax_error\"])]\n",
    "proper = [float(df[\"pmra\"]), float(df[\"pmdec\"])]\n",
    "proper_err = [float(df[\"pmra_error\"]), float(df[\"pmdec_error\"])]"
   ]
  },
  {
   "cell_type": "markdown",
   "metadata": {},
   "source": [
    "Run PyMC3"
   ]
  },
  {
   "cell_type": "code",
   "execution_count": null,
   "metadata": {},
   "outputs": [
    {
     "name": "stderr",
     "output_type": "stream",
     "text": [
      "optimizing logp for variables: [vxyzD]\n"
     ]
    },
    {
     "data": {
      "application/vnd.jupyter.widget-view+json": {
       "model_id": "7e9bd0f5e726419ab22d11dc2388388f",
       "version_major": 2,
       "version_minor": 0
      },
      "text/plain": [
       "HBox(children=(FloatProgress(value=1.0, bar_style='info', max=1.0), HTML(value='')))"
      ]
     },
     "metadata": {},
     "output_type": "display_data"
    },
    {
     "name": "stdout",
     "output_type": "stream",
     "text": [
      "\n"
     ]
    },
    {
     "name": "stderr",
     "output_type": "stream",
     "text": [
      "message: Optimization terminated successfully.\n",
      "logp: -9391.024645875093 -> -8.185998468490368\n",
      "Multiprocess sampling (4 chains in 4 jobs)\n",
      "NUTS: [vxyzD]\n",
      "Sampling 4 chains, 0 divergences:  94%|█████████▎| 9367/10000 [00:05<00:00, 2771.21draws/s]"
     ]
    }
   ],
   "source": [
    "trace = av.run_pymc3_model(pos, pos_err, proper, proper_err, mu, cov)"
   ]
  },
  {
   "cell_type": "code",
   "execution_count": null,
   "metadata": {},
   "outputs": [],
   "source": [
    "flat_samples = pm.trace_to_dataframe(trace)\n",
    "params_inferred = np.median(flat_samples, axis=0)\n",
    "upper = np.percentile(flat_samples, 84, axis=0)\n",
    "lower = np.percentile(flat_samples, 16, axis=0)\n",
    "errp = upper - params_inferred\n",
    "errm = params_inferred - lower\n",
    "std = np.std(flat_samples, axis=0)\n",
    "\n",
    "results = pd.DataFrame(dict({\n",
    "    \"kepid\": df.kepid,\n",
    "    \"vx_inferred\": params_inferred[0],\n",
    "    \"vx_inferred_errp\": errp[0],\n",
    "    \"vx_inferred_errm\": errm[0],\n",
    "    \"vx_inferred_err\": std[0],\n",
    "    \"vy_inferred\": params_inferred[1],\n",
    "    \"vy_inferred_errp\": errp[1],\n",
    "    \"vy_inferred_errm\": errm[1],\n",
    "    \"vy_inferred_err\": std[1],\n",
    "    \"vz_inferred\": params_inferred[2],\n",
    "    \"vz_inferred_errp\": errp[2],\n",
    "    \"vz_inferred_errm\": errm[2],\n",
    "    \"vz_inferred_err\": std[2],\n",
    "    \"lndistance_inferred\": params_inferred[3],\n",
    "    \"lndistance_inferred_errp\": errp[3],\n",
    "    \"lndistance_inferred_errm\": errm[3],\n",
    "    \"lndistance_inferred_err\": std[3]\n",
    "    }), index=[0])"
   ]
  },
  {
   "cell_type": "code",
   "execution_count": null,
   "metadata": {},
   "outputs": [],
   "source": [
    "results"
   ]
  },
  {
   "cell_type": "code",
   "execution_count": null,
   "metadata": {},
   "outputs": [],
   "source": []
  }
 ],
 "metadata": {
  "kernelspec": {
   "display_name": "Python 3",
   "language": "python",
   "name": "python3"
  },
  "language_info": {
   "codemirror_mode": {
    "name": "ipython",
    "version": 3
   },
   "file_extension": ".py",
   "mimetype": "text/x-python",
   "name": "python",
   "nbconvert_exporter": "python",
   "pygments_lexer": "ipython3",
   "version": "3.7.6"
  }
 },
 "nbformat": 4,
 "nbformat_minor": 4
}
