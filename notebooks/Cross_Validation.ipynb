{
 "cells": [
  {
   "cell_type": "markdown",
   "metadata": {},
   "source": [
    "# Cross Validation"
   ]
  },
  {
   "cell_type": "markdown",
   "metadata": {},
   "source": [
    "In this notebook, I validate choices using cross validation."
   ]
  },
  {
   "cell_type": "code",
   "execution_count": 1,
   "metadata": {},
   "outputs": [],
   "source": [
    "%matplotlib inline"
   ]
  },
  {
   "cell_type": "code",
   "execution_count": 28,
   "metadata": {},
   "outputs": [],
   "source": [
    "import numpy as np\n",
    "import pandas as pd\n",
    "import matplotlib.pyplot as plt\n",
    "import matplotlib\n",
    "\n",
    "import pymc3 as pm\n",
    "import theano.tensor as tt\n",
    "import exoplanet as xo\n",
    "\n",
    "import aviary as av\n",
    "\n",
    "from tqdm import trange\n",
    "import pickle\n",
    "\n",
    "plotpar = {'axes.labelsize': 30,\n",
    "           'font.size': 30,\n",
    "           'legend.fontsize': 15,\n",
    "           'xtick.labelsize': 30,\n",
    "           'ytick.labelsize': 30,\n",
    "           'text.usetex': True}\n",
    "plt.rcParams.update(plotpar)"
   ]
  },
  {
   "cell_type": "markdown",
   "metadata": {},
   "source": [
    "Variables to be optimized:"
   ]
  },
  {
   "cell_type": "code",
   "execution_count": 13,
   "metadata": {},
   "outputs": [],
   "source": [
    "young_limit = .7\n",
    "hot_limit = 1.\n",
    "dp, dc = .05, .05\n",
    "cluster_old_err = .05  # The relative prot uncertainty on Ruprecht 147 and NGC6819\n",
    "kinerr = .05  # The relative prot uncertainty on kinematic grid periods.\n",
    "sun_err = .01  # The absolute prot uncertainty on the Sun's rotation period."
   ]
  },
  {
   "cell_type": "markdown",
   "metadata": {},
   "source": [
    "Load the kinematic data."
   ]
  },
  {
   "cell_type": "code",
   "execution_count": 6,
   "metadata": {},
   "outputs": [],
   "source": [
    "k = pd.read_csv(\"../data/mcquillan_kinematic_ages.csv\")\n",
    "k_lucy = pd.read_csv(\"../data/Gyrokinage2020_Prot.csv\")\n",
    "kl = pd.DataFrame(dict({\"kepid\": k_lucy.kepid.values,\n",
    "                        \"kin_age_lucy\": k_lucy.kin_age.values,\n",
    "                        \"kin_age_err\": k_lucy.kin_age_err.values}))\n",
    "k = pd.merge(k, kl, on=\"kepid\", how=\"left\")\n",
    "\n",
    "# Remove subgiants and photometric binaries\n",
    "kin = k.iloc[k.flag.values == 1]\n",
    "finite = np.isfinite(kin.Prot.values) & np.isfinite(kin.bprp_dered.values) & np.isfinite(kin.kin_age_lucy.values)\n",
    "kin = kin.iloc[finite]\n",
    "\n",
    "# Remove stars bluer than 1.5 and with kinematic ages greater than 6 as these are likely to be subgiants.\n",
    "subs = (kin.bprp_dered.values < 1.5) & (kin.kinematic_age.values > 6)\n",
    "kin = kin.iloc[~subs]"
   ]
  },
  {
   "cell_type": "code",
   "execution_count": 7,
   "metadata": {},
   "outputs": [],
   "source": [
    "# Remove stars that fall beneath the lower envelope using the Angus + (2019) gyro relation.\n",
    "no_young = kin.age.values > young_limit\n",
    "kin = kin.iloc[no_young]\n",
    "\n",
    "# Remove hot stars as the clusters provide better coverage.\n",
    "cool = kin.bprp_dered.values > hot_limit\n",
    "akin = kin.iloc[cool]\n",
    "# akin = kin\n",
    "# akin = akin.iloc[::5]"
   ]
  },
  {
   "cell_type": "markdown",
   "metadata": {},
   "source": [
    "Create a grid over kinematic data."
   ]
  },
  {
   "cell_type": "code",
   "execution_count": 10,
   "metadata": {},
   "outputs": [
    {
     "name": "stderr",
     "output_type": "stream",
     "text": [
      "/Users/rangus/Applications/anaconda3/lib/python3.7/site-packages/numpy/core/fromnumeric.py:3373: RuntimeWarning: Mean of empty slice.\n",
      "  out=out, **kwargs)\n"
     ]
    }
   ],
   "source": [
    "logp = np.log10(akin.Prot.values)\n",
    "pgrid = np.arange(min(logp), max(logp), dp)\n",
    "cgrid = np.arange(min(akin.bprp_dered.values), max(akin.bprp_dered.values), dc)\n",
    "P, C = np.meshgrid(pgrid, cgrid)\n",
    "A = np.zeros_like(P)\n",
    "prot_errs, npoints = [np.zeros_like(P) for i in range(2)]\n",
    "for i in range(np.shape(A)[0]):\n",
    "    for j in range(np.shape(A)[1]):\n",
    "        b = (logp - .5*dp < P[i, j]) & (P[i, j] < logp + .5*dp)\n",
    "        b &= (akin.bprp_dered.values - .5*dc < C[i, j]) & (C[i, j] < akin.bprp_dered.values + .5*dc)\n",
    "        A[i, j] = np.median(akin.kin_age_lucy.values[b])\n",
    "        prot_errs[i, j] = np.sqrt(sum((akin.Prot_err.values[b]/akin.Prot.values[b])**2)) \\\n",
    "            / np.sqrt(float(len(akin.kin_age_lucy.values[b])))\n",
    "        npoints[i, j] = len(akin.kin_age_lucy.values[b])\n",
    "\n",
    "finite = np.isfinite(C) & np.isfinite(P) & np.isfinite(A) & np.isfinite(prot_errs)\n",
    "morethan = npoints[finite] > 1\n",
    "C, P, A, prot_errs = C[finite][morethan], P[finite][morethan], A[finite][morethan], prot_errs[finite][morethan]"
   ]
  },
  {
   "cell_type": "markdown",
   "metadata": {},
   "source": [
    "Load cluster data from Get_cluster_scatter and add the Sun."
   ]
  },
  {
   "cell_type": "code",
   "execution_count": 11,
   "metadata": {},
   "outputs": [],
   "source": [
    "cluster_uncert = pd.read_csv(\"../data/clusters_with_uncertainties.csv\")\n",
    "cluster_x = np.concatenate((cluster_uncert.bprp.values, np.array([0.82])))\n",
    "cluster_prot = np.concatenate((cluster_uncert.prot.values, np.array([26])))\n",
    "cluster_age = np.concatenate((cluster_uncert.age.values, np.array([4.56])))\n",
    "cluster_prot_errs = np.concatenate((cluster_uncert.prot_err.values, np.array([sun_err])))"
   ]
  },
  {
   "cell_type": "code",
   "execution_count": 14,
   "metadata": {},
   "outputs": [],
   "source": [
    "# Decrease the uncertainties on the oldest clusters to cluster_old_err\n",
    "select_old = cluster_age > 2.\n",
    "cluster_prot_errs[select_old] = np.ones(len(cluster_prot_errs[select_old])) * cluster_old_err\n",
    "\n",
    "# Combine clusters with kinematic grid\n",
    "x = np.concatenate((cluster_x, np.ndarray.flatten(C)))\n",
    "prot_err = np.concatenate((cluster_prot_errs, np.ndarray.flatten(10**P)*kinerr))\n",
    "prot = np.concatenate((cluster_prot, np.ndarray.flatten(10**P)))\n",
    "age = np.concatenate((cluster_age, np.ndarray.flatten(A)))"
   ]
  },
  {
   "cell_type": "code",
   "execution_count": 15,
   "metadata": {},
   "outputs": [
    {
     "data": {
      "text/plain": [
       "<ErrorbarContainer object of 3 artists>"
      ]
     },
     "execution_count": 15,
     "metadata": {},
     "output_type": "execute_result"
    },
    {
     "data": {
      "image/png": "[encoded data removed]",
      "text/plain": [
       "<Figure size 432x288 with 1 Axes>"
      ]
     },
     "metadata": {
      "needs_background": "light"
     },
     "output_type": "display_data"
    }
   ],
   "source": [
    "plt.errorbar(x, prot, yerr=prot_err, fmt=\"k.\", alpha=.5)"
   ]
  },
  {
   "cell_type": "markdown",
   "metadata": {},
   "source": [
    "Format data for GP fit."
   ]
  },
  {
   "cell_type": "code",
   "execution_count": 17,
   "metadata": {},
   "outputs": [
    {
     "name": "stdout",
     "output_type": "stream",
     "text": [
      "[0.12 0.67 1.   2.5  2.7  4.56]\n"
     ]
    }
   ],
   "source": [
    "# # Format for GP fit.\n",
    "# inds = np.argsort(x)\n",
    "# x1 = np.array(x[inds])\n",
    "# x2 = np.log(np.array(age[inds]))\n",
    "# y = np.log(np.array(prot[inds]))\n",
    "# y_err = prot_err[inds]/prot[inds]\n",
    "\n",
    "# mu1 = np.mean(x1)\n",
    "# sd1 = np.std(x1)\n",
    "# mu2 = np.mean(x2)\n",
    "# sd2 = np.std(x2)\n",
    "\n",
    "# x2_min = np.min(x2)\n",
    "\n",
    "# xp1 = np.linspace(x1.min() - .2, x1.max() + .2, 1000)\n",
    "# xp2 = np.linspace(x2.min(), x2.max(), 1000)\n",
    "# xg1 = np.linspace(x1.min(), x1.max(), 5)\n",
    "# xg2 = np.linspace(x2.min(), x2.max(), 10)\n",
    "# xg2 = np.array([np.log(.12), np.log(.67), np.log(1), np.log(1.6), np.log(2.7), np.log(4.56), np.log(5), np.log(8), np.log(10)])\n",
    "# print(np.unique(cluster_age))"
   ]
  },
  {
   "cell_type": "code",
   "execution_count": 18,
   "metadata": {},
   "outputs": [
    {
     "name": "stderr",
     "output_type": "stream",
     "text": [
      "optimizing logp for variables: [slope_high, slope_low]\n"
     ]
    },
    {
     "data": {
      "application/vnd.jupyter.widget-view+json": {
       "model_id": "f76bafce54d9484da1590065f5eaf1aa",
       "version_major": 2,
       "version_minor": 0
      },
      "text/plain": [
       "HBox(children=(FloatProgress(value=1.0, bar_style='info', max=1.0), HTML(value='')))"
      ]
     },
     "metadata": {},
     "output_type": "display_data"
    },
    {
     "name": "stdout",
     "output_type": "stream",
     "text": [
      "\n"
     ]
    },
    {
     "name": "stderr",
     "output_type": "stream",
     "text": [
      "message: Optimization terminated successfully.\n",
      "logp: -1129.415348719169 -> -1125.3591675001921\n",
      "optimizing logp for variables: [log_smooth]\n"
     ]
    },
    {
     "data": {
      "application/vnd.jupyter.widget-view+json": {
       "model_id": "e9ef733011ad4664945950e7cdb72db8",
       "version_major": 2,
       "version_minor": 0
      },
      "text/plain": [
       "HBox(children=(FloatProgress(value=1.0, bar_style='info', max=1.0), HTML(value='')))"
      ]
     },
     "metadata": {},
     "output_type": "display_data"
    },
    {
     "name": "stdout",
     "output_type": "stream",
     "text": [
      "\n"
     ]
    },
    {
     "name": "stderr",
     "output_type": "stream",
     "text": [
      "message: Optimization terminated successfully.\n",
      "logp: -1125.3591675001921 -> -1124.7004444403915\n",
      "optimizing logp for variables: [log_period_break_b, log_period_break_m, teff_break]\n"
     ]
    },
    {
     "data": {
      "application/vnd.jupyter.widget-view+json": {
       "model_id": "efa233f14d074055bab989dd7ca9e6c2",
       "version_major": 2,
       "version_minor": 0
      },
      "text/plain": [
       "HBox(children=(FloatProgress(value=1.0, bar_style='info', max=1.0), HTML(value='')))"
      ]
     },
     "metadata": {},
     "output_type": "display_data"
    },
    {
     "name": "stdout",
     "output_type": "stream",
     "text": [
      "\n"
     ]
    },
    {
     "name": "stderr",
     "output_type": "stream",
     "text": [
      "message: Optimization terminated successfully.\n",
      "logp: -1124.7004444403915 -> -1122.6986352753802\n",
      "optimizing logp for variables: [log_smooth, slope_high, slope_low]\n"
     ]
    },
    {
     "data": {
      "application/vnd.jupyter.widget-view+json": {
       "model_id": "ac7abff00f9c491b9dea1cb2f08de3de",
       "version_major": 2,
       "version_minor": 0
      },
      "text/plain": [
       "HBox(children=(FloatProgress(value=1.0, bar_style='info', max=1.0), HTML(value='')))"
      ]
     },
     "metadata": {},
     "output_type": "display_data"
    },
    {
     "name": "stdout",
     "output_type": "stream",
     "text": [
      "\n"
     ]
    },
    {
     "name": "stderr",
     "output_type": "stream",
     "text": [
      "message: Optimization terminated successfully.\n",
      "logp: -1122.6986352753802 -> -1120.8482727353658\n",
      "optimizing logp for variables: [log_ell1, log_amp, log_s2]\n"
     ]
    },
    {
     "data": {
      "application/vnd.jupyter.widget-view+json": {
       "model_id": "df191d1829a94f2ebdd2a408b486c24a",
       "version_major": 2,
       "version_minor": 0
      },
      "text/plain": [
       "HBox(children=(FloatProgress(value=1.0, bar_style='info', max=1.0), HTML(value='')))"
      ]
     },
     "metadata": {},
     "output_type": "display_data"
    },
    {
     "name": "stdout",
     "output_type": "stream",
     "text": [
      "\n"
     ]
    },
    {
     "name": "stderr",
     "output_type": "stream",
     "text": [
      "message: Optimization terminated successfully.\n",
      "logp: -1120.8482727353658 -> 203.56259748650805\n",
      "optimizing logp for variables: [teff_break, log_period_break_m, log_period_break_b, log_smooth, slope_low, slope_high, log_s2, log_amp, log_ell1]\n"
     ]
    },
    {
     "data": {
      "application/vnd.jupyter.widget-view+json": {
       "model_id": "db4e84b16bae4fe2831f7fb2981c4862",
       "version_major": 2,
       "version_minor": 0
      },
      "text/plain": [
       "HBox(children=(FloatProgress(value=1.0, bar_style='info', max=1.0), HTML(value='')))"
      ]
     },
     "metadata": {},
     "output_type": "display_data"
    },
    {
     "name": "stdout",
     "output_type": "stream",
     "text": [
      "\n",
      "done\n"
     ]
    },
    {
     "name": "stderr",
     "output_type": "stream",
     "text": [
      "message: Optimization terminated successfully.\n",
      "logp: 203.56259748650805 -> 216.50189377008883\n"
     ]
    }
   ],
   "source": [
    "# with pm.Model() as model:\n",
    "#     # x1 is color, x2 is age, y is period\n",
    "    \n",
    "#     # Parameters to infer.\n",
    "#     teff_break = pm.Normal(\"teff_break\", mu=0.9, sigma=.3)                     # the break in temperature (actually color)\n",
    "#     log_period_break_m = pm.Normal(\"log_period_break_m\", mu=0.0, sd=5)         # The weight of the x term\n",
    "#     log_period_break_b = pm.Normal(\"log_period_break_b\", mu=np.log(10), sd=5)  # The constant term\n",
    "#     log_smooth = pm.Normal(\"log_smooth\", mu=np.log(0.01), sigma=10.0)          # The smoothness of the break. (lower is smoother)\n",
    "#     smooth = tt.exp(log_smooth)\n",
    "#     slope_low = pm.Normal(\"slope_low\", mu=0.0, sd=10.0)                        # The slope below the break\n",
    "#     slope_high = pm.Normal(\"slope_high\", mu=0.0, sd=10.0)                      # The slope above the break\n",
    "#     log_s2 = pm.Normal(\"log_s2\", mu=1.0, sd=10.0)                              # The log-variance of the rotation period data. \n",
    "    \n",
    "#     def get_log_period_break(x2):\n",
    "#         \"\"\"\n",
    "#         2nd-order polynomial describing relationship between period and age.\n",
    "#         period = m*logage + b\n",
    "#         \"\"\"\n",
    "#         return log_period_break_m * (x2 - x2_min) + log_period_break_b\n",
    "    \n",
    "#     # Mean model\n",
    "#     def get_mean_model(x1, x2):\n",
    "#         \"\"\"\n",
    "#         Predict the period at given values of color and age.\n",
    "#         Use a smoothed broken power law for the period - color relation.\n",
    "#         Use get_log_period_break for the period - age relation.\n",
    "#         \"\"\"\n",
    "#         delta = x1 - teff_break\n",
    "#         brk = get_log_period_break(x2)  # Get the period at this age\n",
    "#         slope = slope_low / (1 + tt.exp(smooth * delta)) + slope_high / (1 + tt.exp(-smooth * delta))\n",
    "#         return slope * delta + brk\n",
    "    \n",
    "#     mean_model = get_mean_model(x1, x2)\n",
    "#     pm.Deterministic(\"mean_model\", mean_model)\n",
    "    \n",
    "#     # GP parameters\n",
    "#     log_amp = pm.Normal(\"log_amp\", mu=np.log(np.var(y)), sigma=10.0)\n",
    "#     log_ell = pm.Normal(\"log_ell1\", mu=0.0, sigma=10., shape=2)\n",
    "    \n",
    "#     def get_K(x1, x2, xp1=None, xp2=None):\n",
    "#         X = np.vstack(((x1 - mu1) / sd1, (x2 - mu2) / sd2))\n",
    "        \n",
    "#         if xp1 is None:\n",
    "#             dX = (X[:, :, None] - X[:, None, :]) * tt.exp(-log_ell)[:, None, None]\n",
    "#             r2 = tt.sum(dX ** 2, axis=0)\n",
    "#         else:\n",
    "#             Xp = tt.stack(((xp1 - mu1) / sd1, (xp2 - mu2) / sd2))\n",
    "#             dX = (Xp[:, :, None] - X[:, None, :]) * tt.exp(-log_ell)[:, None, None]\n",
    "#             r2 = tt.sum(dX ** 2, axis=0)\n",
    "            \n",
    "#         K = tt.exp(log_amp - 0.5 * r2)\n",
    "#         return K\n",
    "    \n",
    "#     K = get_K(x1, x2)\n",
    "#     K = tt.inc_subtensor(K[np.diag_indices(len(y))], tt.exp(log_s2) + y_err)\n",
    "    \n",
    "#     alpha = tt.slinalg.solve(K, y - mean_model)\n",
    "#     pm.Deterministic(\"alpha\", alpha)\n",
    "#     for i, x2_ref in enumerate(xg2):\n",
    "#         pred_model = get_mean_model(xp1, x2_ref)\n",
    "#         Kp = get_K(x1, x2, xp1, x2_ref + np.zeros_like(xp1))\n",
    "#         pred = tt.dot(Kp, alpha) + pred_model\n",
    "#         pm.Deterministic(\"pred_{0}\".format(i), pred)\n",
    "    \n",
    "#     # Likelihood\n",
    "#     pm.MvNormal(\"obs\", mu=mean_model, cov=K, observed=y)\n",
    "        \n",
    "#     x1_test = pm.Flat(\"x1_test\", shape=(5000,))\n",
    "#     x2_test = pm.Flat(\"x2_test\", shape=(5000,))\n",
    "#     K_test = get_K(x1, x2, x1_test, x2_test)\n",
    "#     y_test = pm.Deterministic(\"y_test\", tt.dot(K_test, alpha) + get_mean_model(x1_test, x2_test))\n",
    "        \n",
    "#     model.x1 = x1\n",
    "#     model.x2 = x2\n",
    "#     model.x2_min = x2_min\n",
    "#     model.mu1 = mu1\n",
    "#     model.mu2 = mu2\n",
    "#     model.sd1 = sd1\n",
    "#     model.sd2 = sd2\n",
    "        \n",
    "#     map_soln = model.test_point\n",
    "#     map_soln = xo.optimize(map_soln, [slope_low, slope_high])\n",
    "#     map_soln = xo.optimize(map_soln, [log_smooth])\n",
    "#     map_soln = xo.optimize(map_soln, [teff_break, log_period_break_m, log_period_break_b])\n",
    "#     map_soln = xo.optimize(map_soln, [slope_low, slope_high, log_smooth])\n",
    "#     map_soln = xo.optimize(map_soln, [log_s2, log_amp, log_ell])\n",
    "#     map_soln = xo.optimize(map_soln, [log_ell, log_amp, log_s2, slope_high, slope_low, log_smooth, log_period_break_b,\n",
    "#                                       log_period_break_m, teff_break])\n",
    "\n",
    "# print(\"done\")"
   ]
  },
  {
   "cell_type": "code",
   "execution_count": 19,
   "metadata": {},
   "outputs": [],
   "source": [
    "# with open(\"../data/CV_gp_model.pkl\", \"wb\") as f:\n",
    "#     pickle.dump([model, map_soln], f)"
   ]
  },
  {
   "cell_type": "code",
   "execution_count": 29,
   "metadata": {},
   "outputs": [
    {
     "ename": "TypeError",
     "evalue": "'int' object is not subscriptable",
     "output_type": "error",
     "traceback": [
      "\u001b[0;31m---------------------------------------------------------------------------\u001b[0m",
      "\u001b[0;31mTypeError\u001b[0m                                 Traceback (most recent call last)",
      "\u001b[0;32m<ipython-input-29-a158ea3a289d>\u001b[0m in \u001b[0;36m<module>\u001b[0;34m\u001b[0m\n\u001b[1;32m      1\u001b[0m \u001b[0mfilename\u001b[0m \u001b[0;34m=\u001b[0m \u001b[0;34m\"../data/CV_gp_model.pkl\"\u001b[0m\u001b[0;34m\u001b[0m\u001b[0;34m\u001b[0m\u001b[0m\n\u001b[0;32m----> 2\u001b[0;31m \u001b[0mav\u001b[0m\u001b[0;34m.\u001b[0m\u001b[0mfit_gp\u001b[0m\u001b[0;34m(\u001b[0m\u001b[0mx\u001b[0m\u001b[0;34m,\u001b[0m \u001b[0mage\u001b[0m\u001b[0;34m,\u001b[0m \u001b[0mprot\u001b[0m\u001b[0;34m,\u001b[0m \u001b[0mprot_err\u001b[0m\u001b[0;34m,\u001b[0m \u001b[0mfilename\u001b[0m\u001b[0;34m)\u001b[0m\u001b[0;34m\u001b[0m\u001b[0;34m\u001b[0m\u001b[0m\n\u001b[0m",
      "\u001b[0;32m~/projects/aviary/aviary/gp_fit.py\u001b[0m in \u001b[0;36mfit_gp\u001b[0;34m(x, age, prot, prot_err, filename)\u001b[0m\n\u001b[1;32m     28\u001b[0m     \u001b[0mx1\u001b[0m \u001b[0;34m=\u001b[0m \u001b[0mnp\u001b[0m\u001b[0;34m.\u001b[0m\u001b[0marray\u001b[0m\u001b[0;34m(\u001b[0m\u001b[0mx\u001b[0m\u001b[0;34m[\u001b[0m\u001b[0minds\u001b[0m\u001b[0;34m]\u001b[0m\u001b[0;34m)\u001b[0m\u001b[0;34m\u001b[0m\u001b[0;34m\u001b[0m\u001b[0m\n\u001b[1;32m     29\u001b[0m     \u001b[0mx2\u001b[0m \u001b[0;34m=\u001b[0m \u001b[0mnp\u001b[0m\u001b[0;34m.\u001b[0m\u001b[0mlog\u001b[0m\u001b[0;34m(\u001b[0m\u001b[0mnp\u001b[0m\u001b[0;34m.\u001b[0m\u001b[0marray\u001b[0m\u001b[0;34m(\u001b[0m\u001b[0mage\u001b[0m\u001b[0;34m[\u001b[0m\u001b[0minds\u001b[0m\u001b[0;34m]\u001b[0m\u001b[0;34m)\u001b[0m\u001b[0;34m)\u001b[0m\u001b[0;34m\u001b[0m\u001b[0;34m\u001b[0m\u001b[0m\n\u001b[0;32m---> 30\u001b[0;31m     \u001b[0my\u001b[0m \u001b[0;34m=\u001b[0m \u001b[0mnp\u001b[0m\u001b[0;34m.\u001b[0m\u001b[0mlog\u001b[0m\u001b[0;34m(\u001b[0m\u001b[0mnp\u001b[0m\u001b[0;34m.\u001b[0m\u001b[0marray\u001b[0m\u001b[0;34m(\u001b[0m\u001b[0mprot\u001b[0m\u001b[0;34m[\u001b[0m\u001b[0minds\u001b[0m\u001b[0;34m]\u001b[0m\u001b[0;34m)\u001b[0m\u001b[0;34m)\u001b[0m\u001b[0;34m\u001b[0m\u001b[0;34m\u001b[0m\u001b[0m\n\u001b[0m\u001b[1;32m     31\u001b[0m     \u001b[0my_err\u001b[0m \u001b[0;34m=\u001b[0m \u001b[0mprot_err\u001b[0m\u001b[0;34m[\u001b[0m\u001b[0minds\u001b[0m\u001b[0;34m]\u001b[0m\u001b[0;34m/\u001b[0m\u001b[0mprot\u001b[0m\u001b[0;34m[\u001b[0m\u001b[0minds\u001b[0m\u001b[0;34m]\u001b[0m\u001b[0;34m\u001b[0m\u001b[0;34m\u001b[0m\u001b[0m\n\u001b[1;32m     32\u001b[0m \u001b[0;34m\u001b[0m\u001b[0m\n",
      "\u001b[0;31mTypeError\u001b[0m: 'int' object is not subscriptable"
     ]
    }
   ],
   "source": [
    "filename = \"../data/CV_gp_model.pkl\"\n",
    "av.fit_gp(x, age, prot, prot_err, filename)"
   ]
  },
  {
   "cell_type": "code",
   "execution_count": 27,
   "metadata": {},
   "outputs": [
    {
     "data": {
      "text/plain": [
       "(4, 5)"
      ]
     },
     "execution_count": 27,
     "metadata": {},
     "output_type": "execute_result"
    },
    {
     "data": {
      "image/png": "[encoded data removed]",
      "text/plain": [
       "<Figure size 432x288 with 1 Axes>"
      ]
     },
     "metadata": {
      "needs_background": "light"
     },
     "output_type": "display_data"
    }
   ],
   "source": [
    "c = .82\n",
    "prot = 26\n",
    "prot_err = .1\n",
    "\n",
    "class AgePosterior(object):\n",
    "\n",
    "    def __init__(self, filename):\n",
    "    \n",
    "#     def load_model(filename):\n",
    "    \n",
    "        # Load the saved GP gyro model\n",
    "        with open(filename, \"rb\") as f:\n",
    "            model, map_soln = pickle.load(f)\n",
    "\n",
    "        # Pull out the model and parameters\n",
    "        with model:\n",
    "            func = xo.get_theano_function_for_var(model.y_test)\n",
    "            args = xo.utils.get_args_for_theano_function(map_soln)\n",
    "            ind1 = model.vars.index(model.x1_test)\n",
    "            ind2 = model.vars.index(model.x2_test)\n",
    "        \n",
    "        self.func, self.args, self.ind1, self.ind2 = func, args, ind1, ind2\n",
    "\n",
    "    def get_post(self, c, prot, prot_err):\n",
    "        \"\"\"\n",
    "\n",
    "        Args:\n",
    "            c (float): color\n",
    "            prot (float): prot (days)\n",
    "            prot_err (float): absolute prot uncertainty (days)\n",
    "        \"\"\"\n",
    "\n",
    "        self.args[self.ind2] = np.linspace(-1, 3, 5000)\n",
    "        self.args[self.ind1] = c + np.zeros_like(args[ind2])\n",
    "\n",
    "        posterior = np.exp(-0.5 * (self.func(*self.args) - np.log(prot))**2 / (prot_err / prot) ** 2)\n",
    "        return np.exp(self.args[self.ind2]), posterior\n",
    "\n",
    "ap = AgePosterior(filename)\n",
    "color_array, posterior = ap.get_post(c, prot, prot_err)\n",
    "plt.plot(color_array, posterior)\n",
    "plt.xlim(4, 5)"
   ]
  },
  {
   "cell_type": "code",
   "execution_count": null,
   "metadata": {},
   "outputs": [],
   "source": []
  }
 ],
 "metadata": {
  "kernelspec": {
   "display_name": "Python 3",
   "language": "python",
   "name": "python3"
  },
  "language_info": {
   "codemirror_mode": {
    "name": "ipython",
    "version": 3
   },
   "file_extension": ".py",
   "mimetype": "text/x-python",
   "name": "python",
   "nbconvert_exporter": "python",
   "pygments_lexer": "ipython3",
   "version": "3.7.6"
  }
 },
 "nbformat": 4,
 "nbformat_minor": 4
}
