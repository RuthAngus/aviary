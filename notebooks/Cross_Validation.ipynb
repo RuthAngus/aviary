{
 "cells": [
  {
   "cell_type": "markdown",
   "metadata": {},
   "source": [
    "# Cross Validation"
   ]
  },
  {
   "cell_type": "markdown",
   "metadata": {},
   "source": [
    "In this notebook, I validate choices using cross validation."
   ]
  },
  {
   "cell_type": "code",
   "execution_count": 1,
   "metadata": {},
   "outputs": [],
   "source": [
    "%matplotlib inline"
   ]
  },
  {
   "cell_type": "code",
   "execution_count": 62,
   "metadata": {},
   "outputs": [],
   "source": [
    "import numpy as np\n",
    "import pandas as pd\n",
    "import matplotlib.pyplot as plt\n",
    "import matplotlib\n",
    "\n",
    "import pymc3 as pm\n",
    "import theano.tensor as tt\n",
    "import exoplanet as xo\n",
    "\n",
    "import aviary as av\n",
    "import astropy.modeling as apm\n",
    "\n",
    "from tqdm import trange\n",
    "import pickle\n",
    "\n",
    "plotpar = {'axes.labelsize': 30,\n",
    "           'font.size': 30,\n",
    "           'legend.fontsize': 15,\n",
    "           'xtick.labelsize': 30,\n",
    "           'ytick.labelsize': 30,\n",
    "           'text.usetex': True}\n",
    "plt.rcParams.update(plotpar)"
   ]
  },
  {
   "cell_type": "markdown",
   "metadata": {},
   "source": [
    "Variables to be optimized:"
   ]
  },
  {
   "cell_type": "code",
   "execution_count": 3,
   "metadata": {},
   "outputs": [],
   "source": [
    "young_limit = .7\n",
    "hot_limit = 1.\n",
    "dp, dc = .05, .05\n",
    "cluster_old_err = .05  # The relative prot uncertainty on Ruprecht 147 and NGC6819\n",
    "kinerr = .05  # The relative prot uncertainty on kinematic grid periods.\n",
    "sun_err = .01  # The absolute prot uncertainty on the Sun's rotation period."
   ]
  },
  {
   "cell_type": "markdown",
   "metadata": {},
   "source": [
    "Load the kinematic data."
   ]
  },
  {
   "cell_type": "code",
   "execution_count": 4,
   "metadata": {},
   "outputs": [
    {
     "name": "stderr",
     "output_type": "stream",
     "text": [
      "/Users/rangus/Applications/anaconda3/lib/python3.7/site-packages/IPython/core/interactiveshell.py:3063: DtypeWarning: Columns (7) have mixed types.Specify dtype option on import or set low_memory=False.\n",
      "  interactivity=interactivity, compiler=compiler, result=result)\n"
     ]
    }
   ],
   "source": [
    "k = pd.read_csv(\"../data/mcquillan_kinematic_ages.csv\")\n",
    "k_lucy = pd.read_csv(\"../data/Gyrokinage2020_Prot.csv\")\n",
    "kl = pd.DataFrame(dict({\"kepid\": k_lucy.kepid.values,\n",
    "                        \"kin_age_lucy\": k_lucy.kin_age.values,\n",
    "                        \"kin_age_err\": k_lucy.kin_age_err.values}))\n",
    "k = pd.merge(k, kl, on=\"kepid\", how=\"left\")\n",
    "\n",
    "# Remove subgiants and photometric binaries\n",
    "kin = k.iloc[k.flag.values == 1]\n",
    "finite = np.isfinite(kin.Prot.values) & np.isfinite(kin.bprp_dered.values) & np.isfinite(kin.kin_age_lucy.values)\n",
    "kin = kin.iloc[finite]\n",
    "\n",
    "# Remove stars bluer than 1.5 and with kinematic ages greater than 6 as these are likely to be subgiants.\n",
    "subs = (kin.bprp_dered.values < 1.5) & (kin.kinematic_age.values > 6)\n",
    "kin = kin.iloc[~subs]"
   ]
  },
  {
   "cell_type": "code",
   "execution_count": 5,
   "metadata": {},
   "outputs": [],
   "source": [
    "# Remove stars that fall beneath the lower envelope using the Angus + (2019) gyro relation.\n",
    "no_young = kin.age.values > young_limit\n",
    "kin = kin.iloc[no_young]\n",
    "\n",
    "# Remove hot stars as the clusters provide better coverage.\n",
    "cool = kin.bprp_dered.values > hot_limit\n",
    "akin = kin.iloc[cool]\n",
    "# akin = kin\n",
    "# akin = akin.iloc[::5]"
   ]
  },
  {
   "cell_type": "markdown",
   "metadata": {},
   "source": [
    "Create a grid over kinematic data."
   ]
  },
  {
   "cell_type": "code",
   "execution_count": 6,
   "metadata": {},
   "outputs": [
    {
     "name": "stderr",
     "output_type": "stream",
     "text": [
      "/Users/rangus/Applications/anaconda3/lib/python3.7/site-packages/numpy/core/fromnumeric.py:3373: RuntimeWarning: Mean of empty slice.\n",
      "  out=out, **kwargs)\n"
     ]
    }
   ],
   "source": [
    "logp = np.log10(akin.Prot.values)\n",
    "pgrid = np.arange(min(logp), max(logp), dp)\n",
    "cgrid = np.arange(min(akin.bprp_dered.values), max(akin.bprp_dered.values), dc)\n",
    "P, C = np.meshgrid(pgrid, cgrid)\n",
    "A = np.zeros_like(P)\n",
    "prot_errs, npoints = [np.zeros_like(P) for i in range(2)]\n",
    "for i in range(np.shape(A)[0]):\n",
    "    for j in range(np.shape(A)[1]):\n",
    "        b = (logp - .5*dp < P[i, j]) & (P[i, j] < logp + .5*dp)\n",
    "        b &= (akin.bprp_dered.values - .5*dc < C[i, j]) & (C[i, j] < akin.bprp_dered.values + .5*dc)\n",
    "        A[i, j] = np.median(akin.kin_age_lucy.values[b])\n",
    "        prot_errs[i, j] = np.sqrt(sum((akin.Prot_err.values[b]/akin.Prot.values[b])**2)) \\\n",
    "            / np.sqrt(float(len(akin.kin_age_lucy.values[b])))\n",
    "        npoints[i, j] = len(akin.kin_age_lucy.values[b])\n",
    "\n",
    "finite = np.isfinite(C) & np.isfinite(P) & np.isfinite(A) & np.isfinite(prot_errs)\n",
    "morethan = npoints[finite] > 1\n",
    "C, P, A, prot_errs = C[finite][morethan], P[finite][morethan], A[finite][morethan], prot_errs[finite][morethan]"
   ]
  },
  {
   "cell_type": "markdown",
   "metadata": {},
   "source": [
    "Load cluster data from Get_cluster_scatter and add the Sun."
   ]
  },
  {
   "cell_type": "code",
   "execution_count": 7,
   "metadata": {},
   "outputs": [],
   "source": [
    "cluster_uncert = pd.read_csv(\"../data/clusters_with_uncertainties.csv\")\n",
    "cluster_x = np.concatenate((cluster_uncert.bprp.values, np.array([0.82])))\n",
    "cluster_prot = np.concatenate((cluster_uncert.prot.values, np.array([26])))\n",
    "cluster_age = np.concatenate((cluster_uncert.age.values, np.array([4.56])))\n",
    "cluster_prot_errs = np.concatenate((cluster_uncert.prot_err.values, np.array([sun_err])))"
   ]
  },
  {
   "cell_type": "code",
   "execution_count": 18,
   "metadata": {},
   "outputs": [],
   "source": [
    "# Decrease the uncertainties on the oldest clusters to cluster_old_err\n",
    "select_old = cluster_age > 2.\n",
    "cluster_prot_errs[select_old] = np.ones(len(cluster_prot_errs[select_old])) * cluster_old_err\n",
    "\n",
    "# Combine clusters with kinematic grid\n",
    "x = np.concatenate((cluster_x, np.ndarray.flatten(C)))\n",
    "prot_err = np.concatenate((cluster_prot_errs, np.ndarray.flatten(10**P)*kinerr))\n",
    "prot = np.concatenate((cluster_prot, np.ndarray.flatten(10**P)))\n",
    "age = np.concatenate((cluster_age, np.ndarray.flatten(A)))"
   ]
  },
  {
   "cell_type": "code",
   "execution_count": 19,
   "metadata": {},
   "outputs": [
    {
     "data": {
      "text/plain": [
       "<ErrorbarContainer object of 3 artists>"
      ]
     },
     "execution_count": 19,
     "metadata": {},
     "output_type": "execute_result"
    },
    {
     "data": {
      "image/png": "[encoded data removed]",
      "text/plain": [
       "<Figure size 432x288 with 1 Axes>"
      ]
     },
     "metadata": {
      "needs_background": "light"
     },
     "output_type": "display_data"
    }
   ],
   "source": [
    "plt.errorbar(x, prot, yerr=prot_err, fmt=\"k.\", alpha=.5)"
   ]
  },
  {
   "cell_type": "markdown",
   "metadata": {},
   "source": [
    "Fit GP model to data."
   ]
  },
  {
   "cell_type": "code",
   "execution_count": 13,
   "metadata": {},
   "outputs": [
    {
     "name": "stderr",
     "output_type": "stream",
     "text": [
      "optimizing logp for variables: [slope_high, slope_low]\n"
     ]
    },
    {
     "data": {
      "application/vnd.jupyter.widget-view+json": {
       "model_id": "1d09c3f828e94dd599489213b2ba63aa",
       "version_major": 2,
       "version_minor": 0
      },
      "text/plain": [
       "HBox(children=(FloatProgress(value=1.0, bar_style='info', max=1.0), HTML(value='')))"
      ]
     },
     "metadata": {},
     "output_type": "display_data"
    },
    {
     "name": "stdout",
     "output_type": "stream",
     "text": [
      "\n"
     ]
    },
    {
     "name": "stderr",
     "output_type": "stream",
     "text": [
      "message: Optimization terminated successfully.\n",
      "logp: -1129.415348719169 -> -1125.3591675001921\n",
      "optimizing logp for variables: [log_smooth]\n"
     ]
    },
    {
     "data": {
      "application/vnd.jupyter.widget-view+json": {
       "model_id": "6a163a6ed71d4c029b6781847e8e956f",
       "version_major": 2,
       "version_minor": 0
      },
      "text/plain": [
       "HBox(children=(FloatProgress(value=1.0, bar_style='info', max=1.0), HTML(value='')))"
      ]
     },
     "metadata": {},
     "output_type": "display_data"
    },
    {
     "name": "stdout",
     "output_type": "stream",
     "text": [
      "\n"
     ]
    },
    {
     "name": "stderr",
     "output_type": "stream",
     "text": [
      "message: Optimization terminated successfully.\n",
      "logp: -1125.3591675001921 -> -1124.7004444403915\n",
      "optimizing logp for variables: [log_period_break_b, log_period_break_m, teff_break]\n"
     ]
    },
    {
     "data": {
      "application/vnd.jupyter.widget-view+json": {
       "model_id": "559ec2d97e344613acd9ee9496a691bc",
       "version_major": 2,
       "version_minor": 0
      },
      "text/plain": [
       "HBox(children=(FloatProgress(value=1.0, bar_style='info', max=1.0), HTML(value='')))"
      ]
     },
     "metadata": {},
     "output_type": "display_data"
    },
    {
     "name": "stdout",
     "output_type": "stream",
     "text": [
      "\n"
     ]
    },
    {
     "name": "stderr",
     "output_type": "stream",
     "text": [
      "message: Optimization terminated successfully.\n",
      "logp: -1124.7004444403915 -> -1122.6986352753802\n",
      "optimizing logp for variables: [log_smooth, slope_high, slope_low]\n"
     ]
    },
    {
     "data": {
      "application/vnd.jupyter.widget-view+json": {
       "model_id": "5d6b6b977c42400ebd919b599135b411",
       "version_major": 2,
       "version_minor": 0
      },
      "text/plain": [
       "HBox(children=(FloatProgress(value=1.0, bar_style='info', max=1.0), HTML(value='')))"
      ]
     },
     "metadata": {},
     "output_type": "display_data"
    },
    {
     "name": "stdout",
     "output_type": "stream",
     "text": [
      "\n"
     ]
    },
    {
     "name": "stderr",
     "output_type": "stream",
     "text": [
      "message: Optimization terminated successfully.\n",
      "logp: -1122.6986352753802 -> -1120.8482727353658\n",
      "optimizing logp for variables: [log_ell1, log_amp, log_s2]\n"
     ]
    },
    {
     "data": {
      "application/vnd.jupyter.widget-view+json": {
       "model_id": "c1155c439fad4ed4a541fce9c78b8cf4",
       "version_major": 2,
       "version_minor": 0
      },
      "text/plain": [
       "HBox(children=(FloatProgress(value=1.0, bar_style='info', max=1.0), HTML(value='')))"
      ]
     },
     "metadata": {},
     "output_type": "display_data"
    },
    {
     "name": "stdout",
     "output_type": "stream",
     "text": [
      "\n"
     ]
    },
    {
     "name": "stderr",
     "output_type": "stream",
     "text": [
      "message: Optimization terminated successfully.\n",
      "logp: -1120.8482727353658 -> 203.56259748650805\n",
      "optimizing logp for variables: [teff_break, log_period_break_m, log_period_break_b, log_smooth, slope_low, slope_high, log_s2, log_amp, log_ell1]\n"
     ]
    },
    {
     "data": {
      "application/vnd.jupyter.widget-view+json": {
       "model_id": "466451c623fb4b01a801e1bb2db2aed4",
       "version_major": 2,
       "version_minor": 0
      },
      "text/plain": [
       "HBox(children=(FloatProgress(value=1.0, bar_style='info', max=1.0), HTML(value='')))"
      ]
     },
     "metadata": {},
     "output_type": "display_data"
    },
    {
     "name": "stdout",
     "output_type": "stream",
     "text": [
      "\n"
     ]
    },
    {
     "name": "stderr",
     "output_type": "stream",
     "text": [
      "message: Optimization terminated successfully.\n",
      "logp: 203.56259748650805 -> 216.50189377008883\n"
     ]
    },
    {
     "name": "stdout",
     "output_type": "stream",
     "text": [
      "done\n"
     ]
    }
   ],
   "source": [
    "filename = \"../data/CV_gp_model.pkl\"\n",
    "av.fit_gp(x, age, prot, prot_err, filename)"
   ]
  },
  {
   "cell_type": "markdown",
   "metadata": {},
   "source": [
    "Plot the results:"
   ]
  },
  {
   "cell_type": "code",
   "execution_count": 23,
   "metadata": {},
   "outputs": [],
   "source": [
    "plot = False\n",
    "if plot:\n",
    "    # Format data for GP fit.\n",
    "    inds = np.argsort(x)\n",
    "    x1 = np.array(x[inds])\n",
    "    x2 = np.log(np.array(age[inds]))\n",
    "    y = np.log(np.array(prot[inds]))\n",
    "    y_err = prot_err[inds]/prot[inds]\n",
    "\n",
    "    x2_min = np.min(x2)\n",
    "    xp1 = np.linspace(x1.min() - .2, x1.max() + .2, 1000)\n",
    "    xg2 = np.array([np.log(.12), np.log(.67), np.log(1), np.log(1.6),\n",
    "                    np.log(2.7), np.log(4.56), np.log(5), np.log(8),\n",
    "                    np.log(10)])\n",
    "\n",
    "\n",
    "    # Load the saved GP gyro model\n",
    "    with open(filename, \"rb\") as f:\n",
    "        model, map_soln = pickle.load(f)\n",
    "\n",
    "    # Pull out the model and parameters\n",
    "    with model:\n",
    "        func = xo.get_theano_function_for_var(model.y_test)\n",
    "        args = xo.utils.get_args_for_theano_function(map_soln)\n",
    "        ind1 = model.vars.index(model.x1_test)\n",
    "        ind2 = model.vars.index(model.x2_test)\n",
    "\n",
    "    cmap = matplotlib.cm.get_cmap(\"plasma_r\")\n",
    "\n",
    "    vmin = np.exp(x2).min()\n",
    "    vmax = np.exp(x2).max()\n",
    "\n",
    "    def get_color(x2):\n",
    "        return cmap((np.exp(x2) - vmin) / (vmax - vmin))\n",
    "\n",
    "    plt.figure(figsize=(12, 7), dpi=200)\n",
    "    plt.plot(kin.bprp_dered, kin.Prot, \".\", color=\".8\", mec=\"none\", ms=10, alpha=.2, zorder=0,\n",
    "             label=\"$\\mathrm{Field~Star~distribution}$\")\n",
    "    plt.scatter(x1, np.exp(y), c=np.exp(x2), vmin=vmin, vmax=vmax, s=8, cmap=\"plasma_r\",\n",
    "                label=\"$\\mathrm{Kinematic~Ages~(Field~Stars)}$\")\n",
    "    plt.scatter(cluster_x, cluster_prot, c=cluster_age, vmin=vmin, vmax=vmax, s=20, edgecolor=\"k\", cmap=\"plasma_r\",\n",
    "                label=\"$\\mathrm{Cluster~Stars}$\")\n",
    "\n",
    "    for i in range(len(xg2)):\n",
    "        plt.plot(xp1, np.exp(map_soln[\"pred_{0}\".format(i)]), color=\"k\", lw=1.25)\n",
    "        plt.plot(xp1, np.exp(map_soln[\"pred_{0}\".format(i)]), color=get_color(xg2[i]), lw=0.75)\n",
    "\n",
    "    plt.xlabel(\"$\\mathrm{G_{BP} - G_{RP}}$\")\n",
    "    plt.ylabel(\"$\\mathrm{P_{rot}~[days]}$\")\n",
    "    plt.ylim(0.5, 180)\n",
    "    plt.yscale(\"log\")\n",
    "    plt.colorbar(label=\"$\\mathrm{Age~[Gyr]}$\");\n",
    "    plt.xlim(.5, 2.8)\n",
    "    leg = plt.legend()\n",
    "    leg.legendHandles[0]._legmarker.set_alpha(1)\n",
    "    plt.tight_layout()"
   ]
  },
  {
   "cell_type": "code",
   "execution_count": 24,
   "metadata": {},
   "outputs": [],
   "source": [
    "class AgePosterior(object):\n",
    "\n",
    "    def __init__(self, filename):\n",
    "        \n",
    "        # Load the saved GP gyro model\n",
    "        with open(filename, \"rb\") as f:\n",
    "            model, map_soln = pickle.load(f)\n",
    "\n",
    "        # Pull out the model and parameters\n",
    "        with model:\n",
    "            func = xo.get_theano_function_for_var(model.y_test)\n",
    "            args = xo.utils.get_args_for_theano_function(map_soln)\n",
    "            ind1 = model.vars.index(model.x1_test)\n",
    "            ind2 = model.vars.index(model.x2_test)\n",
    "        \n",
    "        self.func, self.args, self.ind1, self.ind2 = func, args, ind1, ind2\n",
    "\n",
    "    def get_post(self, c, prot, prot_err):\n",
    "        \"\"\"\n",
    "\n",
    "        Args:\n",
    "            c (float): color\n",
    "            prot (float): prot (days)\n",
    "            prot_err (float): absolute prot uncertainty (days)\n",
    "        \"\"\"\n",
    "\n",
    "        self.args[self.ind2] = np.linspace(-1, 3, 5000)\n",
    "        self.args[self.ind1] = c + np.zeros_like(self.args[self.ind2])\n",
    "\n",
    "        posterior = np.exp(-0.5 * (self.func(*self.args) - np.log(prot))**2 / (prot_err / prot) ** 2)\n",
    "        return np.exp(self.args[self.ind2]), posterior"
   ]
  },
  {
   "cell_type": "code",
   "execution_count": 72,
   "metadata": {},
   "outputs": [
    {
     "data": {
      "text/plain": [
       "([4.56, 4.56, 4.56], array([4.50292672, 4.50292672, 4.50292672]))"
      ]
     },
     "execution_count": 72,
     "metadata": {},
     "output_type": "execute_result"
    },
    {
     "data": {
      "image/png": "[encoded data removed]",
      "text/plain": [
       "<Figure size 432x288 with 1 Axes>"
      ]
     },
     "metadata": {
      "needs_background": "light"
     },
     "output_type": "display_data"
    }
   ],
   "source": [
    "c = [.82, .82, .82]\n",
    "prot = [26, 26, 26]\n",
    "prot_err = [.1, .1, .1]\n",
    "true_age = [4.56, 4.56, 4.56]\n",
    "\n",
    "ap = AgePosterior(filename)\n",
    "\n",
    "mu, sig = [np.zeros(len(c)) for i in range(2)]\n",
    "for i in range(len(c)):\n",
    "    color_array, posterior = ap.get_post(c[i], prot[i], prot_err[i])\n",
    "\n",
    "    # Get mean and sigma of posterior.\n",
    "    fitter = apm.fitting.LevMarLSQFitter()\n",
    "    model = apm.models.Gaussian1D()   # depending on the data you need to give some initial values\n",
    "    fitted_model = fitter(model, color_array, posterior)\n",
    "    mu[i], sig[i] = fitted_model.mean.value, fitted_model.stddev.value\n",
    "    \n",
    "plt.errorbar(true_age, mu, yerr=sig, fmt=\".\")\n",
    "true_age, mu\n",
    "\n",
    "# plt.plot(color_array, posterior)\n",
    "# plt.plot(color_array, fitted_model(color_array))\n",
    "# plt.xlim(4, 5)"
   ]
  },
  {
   "cell_type": "code",
   "execution_count": null,
   "metadata": {},
   "outputs": [],
   "source": []
  }
 ],
 "metadata": {
  "kernelspec": {
   "display_name": "Python 3",
   "language": "python",
   "name": "python3"
  },
  "language_info": {
   "codemirror_mode": {
    "name": "ipython",
    "version": 3
   },
   "file_extension": ".py",
   "mimetype": "text/x-python",
   "name": "python",
   "nbconvert_exporter": "python",
   "pygments_lexer": "ipython3",
   "version": "3.7.6"
  }
 },
 "nbformat": 4,
 "nbformat_minor": 4
}
